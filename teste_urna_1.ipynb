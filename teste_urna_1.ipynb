{
  "nbformat": 4,
  "nbformat_minor": 0,
  "metadata": {
    "colab": {
      "provenance": [],
      "collapsed_sections": [],
      "authorship_tag": "ABX9TyNzLeGG1FKkv4nuvnpTr2rH",
      "include_colab_link": true
    },
    "kernelspec": {
      "name": "python3",
      "display_name": "Python 3"
    },
    "language_info": {
      "name": "python"
    }
  },
  "cells": [
    {
      "cell_type": "markdown",
      "metadata": {
        "id": "view-in-github",
        "colab_type": "text"
      },
      "source": [
        "<a href=\"https://colab.research.google.com/github/caxaxa/Brazilian_elections/blob/main/teste_urna_1.ipynb\" target=\"_parent\"><img src=\"https://colab.research.google.com/assets/colab-badge.svg\" alt=\"Open In Colab\"/></a>"
      ]
    },
    {
      "cell_type": "markdown",
      "source": [
        "## Testando Diferença Entre Urnas de 2020 e demais"
      ],
      "metadata": {
        "id": "bxbHGG7ef0lb"
      }
    },
    {
      "cell_type": "code",
      "source": [
        "#importando as Packages\n",
        "import pandas as pd\n",
        "\n"
      ],
      "metadata": {
        "id": "ALq14jCjf8lg"
      },
      "execution_count": null,
      "outputs": []
    },
    {
      "cell_type": "code",
      "source": [
        "# #Carregando dado\n",
        "df = pd.read_excel('https://brazilwasstolen.com/wp-content/uploads/2022/11/VOTOS_T1E2.xlsx', header = 1 )\n",
        "\n",
        "# Baixa a planilha contendo as localizacoes\n",
        "# lista de todas localidades, zonas e municipios oficiais do TSE\n",
        "\n",
        "\n",
        "df_loc = pd.read_csv('/content/lista_localidades_tse.csv', sep = ';', encoding = 'Latin-1')"
      ],
      "metadata": {
        "id": "G7IQXeSWgElr"
      },
      "execution_count": null,
      "outputs": []
    },
    {
      "cell_type": "code",
      "source": [
        "# !mkdir CSVs"
      ],
      "metadata": {
        "id": "QYWwh2PRsDFo"
      },
      "execution_count": null,
      "outputs": []
    },
    {
      "cell_type": "code",
      "source": [
        "# # Baixar os csv da base de dados do TSE\n",
        "\n",
        "# import os\n",
        "# import requests, zipfile, io\n",
        "\n",
        "# UFs = ['AC', 'AL', 'AM', 'AP', 'BA', 'CE', 'DF', 'ES', 'GO', 'MA', 'MS', 'MT', 'PA', 'PB', 'PE', 'PI', 'PR', 'RJ', 'RN', 'RO', 'RR', 'RS', 'SC', 'SE', 'SP', 'TO', 'ZZ']\n",
        "# # Para cada mês há dois *.zip. Os urls usam a mesma base:\n",
        "# url_base =['https://cdn.tse.jus.br/estatistica/sead/eleicoes/eleicoes2022/buweb/bweb_1t_{}_051020221321.zip', 'https://cdn.tse.jus.br/estatistica/sead/eleicoes/eleicoes2022/buweb/bweb_2t_{}_311020221535.zip' ]\n",
        "\n",
        "# def csv_downloader():\n",
        "#   for i in UFs:\n",
        "#     for j in url_base:\n",
        "#       r = requests.get(j.format(i))\n",
        "#       z = zipfile.ZipFile(io.BytesIO(r.content))\n",
        "#       z.extractall(\"/content/CSVs\")\n",
        "#       print('O Estado {} deu certo'.format(i))\n",
        "\n"
      ],
      "metadata": {
        "id": "IYg3avrBivAl"
      },
      "execution_count": null,
      "outputs": []
    },
    {
      "cell_type": "code",
      "source": [
        "# #Baixa e extrai os CSVs\n",
        "# csv_downloader()"
      ],
      "metadata": {
        "id": "HAOc2_UJtkSy"
      },
      "execution_count": null,
      "outputs": []
    },
    {
      "cell_type": "code",
      "source": [
        "df_loc.columns\n"
      ],
      "metadata": {
        "colab": {
          "base_uri": "https://localhost:8080/"
        },
        "id": "v4Gk6aCO45ay",
        "outputId": "c8cc61c2-a416-4d64-ddae-974f1e8aab9d"
      },
      "execution_count": null,
      "outputs": [
        {
          "output_type": "execute_result",
          "data": {
            "text/plain": [
              "Index(['CD_MUNICIPIO', 'NM_MUNICIPIO', 'DS_LOCAL_VOTACAO_ENDERECO',\n",
              "       'NM_LOCAL_VOTACAO', 'NR_ZONA', 'NR_SECAO', 'LOC_KEY'],\n",
              "      dtype='object')"
            ]
          },
          "metadata": {},
          "execution_count": 184
        }
      ]
    },
    {
      "cell_type": "code",
      "source": [
        "df_loc[(df_loc['NM_MUNICIPIO'] == 'CAMPO GRANDE') & (df_loc['NR_ZONA'] == 36)]['NM_LOCAL_VOTACAO'].unique()"
      ],
      "metadata": {
        "id": "3qZtZcVKivKj",
        "colab": {
          "base_uri": "https://localhost:8080/"
        },
        "outputId": "948f9ed1-38d2-4552-bc7d-37de0def2701"
      },
      "execution_count": null,
      "outputs": [
        {
          "output_type": "execute_result",
          "data": {
            "text/plain": [
              "array(['EE JOAQUIM MURTINHO', 'COLEGIO DOM BOSCO',\n",
              "       'CENTRO COMUNITÁRIO DA IGREJA SÃO PEDRO APÓSTOLO',\n",
              "       'EE PROFESSOR HENRIQUE CIRILO CORREA',\n",
              "       'CENTRO UNIVERSITÁRIO DA GRANDE DOURADOS - UNIGRAN', 'SEBRAE',\n",
              "       'INSTITUTO SUL MATOGROSSENSE PARA CEGOS - ISMAC',\n",
              "       'ASSOCIAÇÃO ESPORTIVA E CULTURAL NIPO BRASILEIRA',\n",
              "       'EE ADVOGADO DEMOSTHENES MARTINS', 'EE LÚCIA MARTINS COELHO',\n",
              "       'EM PROF.  ARLINDO LIMA', 'EE SÃO JOSÉ', 'EE NICOLAU FRAGELLI',\n",
              "       'EE ARTHUR DE VASCONCELOS DIAS',\n",
              "       'EM PROF. LUIS ANTONIO DE SÁ CARVALHO',\n",
              "       'EE JOSE MARIA HUGO RODRIGUES',\n",
              "       'SALAO PAROQUIAL DA IGREJA SAO JOAO BOSCO',\n",
              "       'COLEGIO NOSSA SENHORA AUXILIADORA',\n",
              "       'FUNLEC - COLÉGIO PROF. LOURIVAL MARTINS FAGUNDES',\n",
              "       'EE 26 DE AGOSTO', 'EE PROF. SEVERINO DE QUEIROZ',\n",
              "       'COLÉGIO SÃO FRANCISCO EDUCAÇÃO INFANTIL E ENSINO FUNDAMENTAL',\n",
              "       'EM JOAO DE PAULA RIBEIRO', 'CEINF-LÚCIA ÂNGELA DE CASTRO COSTA',\n",
              "       'COMUNIDADE NOSSA SENHORA AUXILIADORA',\n",
              "       'EM PROFESSOR VANDERLEI ROSA DE OLIVEIRA',\n",
              "       'EM PROFESSORA DANDA NUNES',\n",
              "       'COLÉGIO IMPACTO (ANTIGA ESCOLA CEAPE)',\n",
              "       'EM CONSULESA MARGARIDA MAKSOUD TRAD', 'EM CORONEL ANTONINO',\n",
              "       'ESCOLA ALEXANDER FLEMING',\n",
              "       'CESUMAR - CENTRO DE ENSINO SUPERIOR DE MARINGÁ',\n",
              "       'ESCOLA HARMONIA BILÍNGUE - UNIDADE III',\n",
              "       'EM PROFESSOR VIRGÍLIO ALVES DE CAMPOS', 'EE PADRE JOAO GREINER',\n",
              "       'SEMED - SECRETARIA MUNICIPAL DE EDUCAÇÃO',\n",
              "       'COLÉGIO CRISTÃO ALIANÇADOS', 'ESCOLA GENERAL OSÓRIO',\n",
              "       'EE JOELINA ALMEIDA XAVIER', 'EM ETALIVIO PEREIRA MARTINS',\n",
              "       'EM ELPIDIO REIS'], dtype=object)"
            ]
          },
          "metadata": {},
          "execution_count": 108
        }
      ]
    },
    {
      "cell_type": "code",
      "source": [
        "#cria o campo chave para criar as localizacoes\n",
        "\n",
        "df_loc['LOC_KEY'] = df_loc['CD_MUNICIPIO'].astype('str') + '_' + df_loc['NR_ZONA'].astype('str') + '_' + df_loc['NR_SECAO'].astype('str')"
      ],
      "metadata": {
        "id": "Fgye6Z4q6gBU"
      },
      "execution_count": null,
      "outputs": []
    },
    {
      "cell_type": "code",
      "source": [],
      "metadata": {
        "id": "lMCkPHeA8FS7"
      },
      "execution_count": null,
      "outputs": []
    },
    {
      "cell_type": "code",
      "source": [
        "#Criando uma variável para cada zona eleitoral (mudar para cada local de voto)\n",
        "# Cria o campo chave para colocar a localizacao\n",
        "# df[['ESTADO','ID_1','ZONA','SECAO']] = df['ID_SECAO'].str.split('_', expand = True, n=0)\n",
        "# df['ID_ZONA'] = df['ID_1'] + '_' +  df['NR_ZONA'].astype('str')\n",
        "df['ID_ZONA'] = df['CD_MUNICIPIO'].astype('str') + '_' +  df['NR_ZONA'].astype('str')\n",
        "df['LOC_KEY'] = df['ID_ZONA'] + '_' +  df['NR_SECAO'].astype('str')"
      ],
      "metadata": {
        "id": "X9ry-DtShTMV"
      },
      "execution_count": null,
      "outputs": []
    },
    {
      "cell_type": "code",
      "source": [
        "# Cria o campo com as localizacoes usando pandas.merge() para fazer o mapping\n",
        "\n",
        "# Calcula numero de secao em cada ID_zona da lista\n",
        "\n",
        "df_to_dict = df_loc[['LOC_KEY','NM_LOCAL_VOTACAO']]\n",
        "\n",
        "dict_loc = pd.Series(df_to_dict['NM_LOCAL_VOTACAO'].values,index=df_to_dict['LOC_KEY']).to_dict()\n"
      ],
      "metadata": {
        "id": "yOT2RHUF7ITq"
      },
      "execution_count": null,
      "outputs": []
    },
    {
      "cell_type": "code",
      "source": [
        "#teste sem o dict --> nao usar Merge direto... por algum motivo dá dieferenca... preferir montar um dict e fazer o Mapping\n",
        "#df['LOC_2'] = pd.merge(df_loc, df, how ='inner', on =['CD_MUNICIPIO', 'NM_MUNICIPIO','NR_ZONA', 'NR_SECAO'] )['NM_LOCAL_VOTACAO']"
      ],
      "metadata": {
        "id": "4Seq7ocOsKwt"
      },
      "execution_count": null,
      "outputs": []
    },
    {
      "cell_type": "code",
      "source": [
        "# Usando MAP deu... usando merge nao funcionaou\n",
        "df['LOC'] = df['LOC_KEY'].map(dict_loc)"
      ],
      "metadata": {
        "id": "D8X3cWQVouae"
      },
      "execution_count": null,
      "outputs": []
    },
    {
      "cell_type": "code",
      "source": [],
      "metadata": {
        "colab": {
          "base_uri": "https://localhost:8080/"
        },
        "id": "kk15ZZFv-pqB",
        "outputId": "813ea188-cb3f-438d-8b68-5c0945c83275"
      },
      "execution_count": null,
      "outputs": [
        {
          "output_type": "execute_result",
          "data": {
            "text/plain": [
              "0         TIRADENTES CTPM UNIDADE X - ESCOLA ESTADUAL\n",
              "1         TIRADENTES CTPM UNIDADE X - ESCOLA ESTADUAL\n",
              "2         TIRADENTES CTPM UNIDADE X - ESCOLA ESTADUAL\n",
              "3         TIRADENTES CTPM UNIDADE X - ESCOLA ESTADUAL\n",
              "4         TIRADENTES CTPM UNIDADE X - ESCOLA ESTADUAL\n",
              "                             ...                     \n",
              "472016                                            NaN\n",
              "472017                                            NaN\n",
              "472018                                            NaN\n",
              "472024                                            NaN\n",
              "472025                                            NaN\n",
              "Name: LOC_2, Length: 461764, dtype: object"
            ]
          },
          "metadata": {},
          "execution_count": 187
        }
      ]
    },
    {
      "cell_type": "code",
      "source": [
        "df[['ID_SECAO', 'NR_ZONA', 'SECAO','LOC']] # Novos dados, fazer um MAP de CD_MUN, NR_ZONA_SECAO"
      ],
      "metadata": {
        "id": "8pyhw_a0HeYC",
        "colab": {
          "base_uri": "https://localhost:8080/",
          "height": 424
        },
        "outputId": "f1c28ebb-f8af-4e21-ae57-2e08415e7eef"
      },
      "execution_count": null,
      "outputs": [
        {
          "output_type": "execute_result",
          "data": {
            "text/plain": [
              "               ID_SECAO  NR_ZONA SECAO                                   LOC\n",
              "0           AC_1007_9_1        9     1  ESCOLA EDMUNDO PINTO DE ALMEIDA NETO\n",
              "1           AC_1007_9_2        9     2  ESCOLA EDMUNDO PINTO DE ALMEIDA NETO\n",
              "2           AC_1007_9_3        9     3  ESCOLA EDMUNDO PINTO DE ALMEIDA NETO\n",
              "3           AC_1007_9_4        9     4  ESCOLA EDMUNDO PINTO DE ALMEIDA NETO\n",
              "4           AC_1007_9_5        9     5               ESCOLA SÃO JOÃO BATISTA\n",
              "...                 ...      ...   ...                                   ...\n",
              "472016  ZZ_39160_1_1902        1  1902                             LIUBLIANA\n",
              "472017  ZZ_39209_1_1069        1  1069                            BRATISLAVA\n",
              "472018   ZZ_39306_1_925        1   925    ISTAMBUL-CONSULADO GERAL DO BRASIL\n",
              "472024  ZZ_99317_1_1282        1  1282                                 TALIN\n",
              "472025   ZZ_99430_1_145        1   145                      KINGSTON-JAMAICA\n",
              "\n",
              "[461764 rows x 4 columns]"
            ],
            "text/html": [
              "\n",
              "  <div id=\"df-6df901fb-f09d-4581-afd9-982d25b50a51\">\n",
              "    <div class=\"colab-df-container\">\n",
              "      <div>\n",
              "<style scoped>\n",
              "    .dataframe tbody tr th:only-of-type {\n",
              "        vertical-align: middle;\n",
              "    }\n",
              "\n",
              "    .dataframe tbody tr th {\n",
              "        vertical-align: top;\n",
              "    }\n",
              "\n",
              "    .dataframe thead th {\n",
              "        text-align: right;\n",
              "    }\n",
              "</style>\n",
              "<table border=\"1\" class=\"dataframe\">\n",
              "  <thead>\n",
              "    <tr style=\"text-align: right;\">\n",
              "      <th></th>\n",
              "      <th>ID_SECAO</th>\n",
              "      <th>NR_ZONA</th>\n",
              "      <th>SECAO</th>\n",
              "      <th>LOC</th>\n",
              "    </tr>\n",
              "  </thead>\n",
              "  <tbody>\n",
              "    <tr>\n",
              "      <th>0</th>\n",
              "      <td>AC_1007_9_1</td>\n",
              "      <td>9</td>\n",
              "      <td>1</td>\n",
              "      <td>ESCOLA EDMUNDO PINTO DE ALMEIDA NETO</td>\n",
              "    </tr>\n",
              "    <tr>\n",
              "      <th>1</th>\n",
              "      <td>AC_1007_9_2</td>\n",
              "      <td>9</td>\n",
              "      <td>2</td>\n",
              "      <td>ESCOLA EDMUNDO PINTO DE ALMEIDA NETO</td>\n",
              "    </tr>\n",
              "    <tr>\n",
              "      <th>2</th>\n",
              "      <td>AC_1007_9_3</td>\n",
              "      <td>9</td>\n",
              "      <td>3</td>\n",
              "      <td>ESCOLA EDMUNDO PINTO DE ALMEIDA NETO</td>\n",
              "    </tr>\n",
              "    <tr>\n",
              "      <th>3</th>\n",
              "      <td>AC_1007_9_4</td>\n",
              "      <td>9</td>\n",
              "      <td>4</td>\n",
              "      <td>ESCOLA EDMUNDO PINTO DE ALMEIDA NETO</td>\n",
              "    </tr>\n",
              "    <tr>\n",
              "      <th>4</th>\n",
              "      <td>AC_1007_9_5</td>\n",
              "      <td>9</td>\n",
              "      <td>5</td>\n",
              "      <td>ESCOLA SÃO JOÃO BATISTA</td>\n",
              "    </tr>\n",
              "    <tr>\n",
              "      <th>...</th>\n",
              "      <td>...</td>\n",
              "      <td>...</td>\n",
              "      <td>...</td>\n",
              "      <td>...</td>\n",
              "    </tr>\n",
              "    <tr>\n",
              "      <th>472016</th>\n",
              "      <td>ZZ_39160_1_1902</td>\n",
              "      <td>1</td>\n",
              "      <td>1902</td>\n",
              "      <td>LIUBLIANA</td>\n",
              "    </tr>\n",
              "    <tr>\n",
              "      <th>472017</th>\n",
              "      <td>ZZ_39209_1_1069</td>\n",
              "      <td>1</td>\n",
              "      <td>1069</td>\n",
              "      <td>BRATISLAVA</td>\n",
              "    </tr>\n",
              "    <tr>\n",
              "      <th>472018</th>\n",
              "      <td>ZZ_39306_1_925</td>\n",
              "      <td>1</td>\n",
              "      <td>925</td>\n",
              "      <td>ISTAMBUL-CONSULADO GERAL DO BRASIL</td>\n",
              "    </tr>\n",
              "    <tr>\n",
              "      <th>472024</th>\n",
              "      <td>ZZ_99317_1_1282</td>\n",
              "      <td>1</td>\n",
              "      <td>1282</td>\n",
              "      <td>TALIN</td>\n",
              "    </tr>\n",
              "    <tr>\n",
              "      <th>472025</th>\n",
              "      <td>ZZ_99430_1_145</td>\n",
              "      <td>1</td>\n",
              "      <td>145</td>\n",
              "      <td>KINGSTON-JAMAICA</td>\n",
              "    </tr>\n",
              "  </tbody>\n",
              "</table>\n",
              "<p>461764 rows × 4 columns</p>\n",
              "</div>\n",
              "      <button class=\"colab-df-convert\" onclick=\"convertToInteractive('df-6df901fb-f09d-4581-afd9-982d25b50a51')\"\n",
              "              title=\"Convert this dataframe to an interactive table.\"\n",
              "              style=\"display:none;\">\n",
              "        \n",
              "  <svg xmlns=\"http://www.w3.org/2000/svg\" height=\"24px\"viewBox=\"0 0 24 24\"\n",
              "       width=\"24px\">\n",
              "    <path d=\"M0 0h24v24H0V0z\" fill=\"none\"/>\n",
              "    <path d=\"M18.56 5.44l.94 2.06.94-2.06 2.06-.94-2.06-.94-.94-2.06-.94 2.06-2.06.94zm-11 1L8.5 8.5l.94-2.06 2.06-.94-2.06-.94L8.5 2.5l-.94 2.06-2.06.94zm10 10l.94 2.06.94-2.06 2.06-.94-2.06-.94-.94-2.06-.94 2.06-2.06.94z\"/><path d=\"M17.41 7.96l-1.37-1.37c-.4-.4-.92-.59-1.43-.59-.52 0-1.04.2-1.43.59L10.3 9.45l-7.72 7.72c-.78.78-.78 2.05 0 2.83L4 21.41c.39.39.9.59 1.41.59.51 0 1.02-.2 1.41-.59l7.78-7.78 2.81-2.81c.8-.78.8-2.07 0-2.86zM5.41 20L4 18.59l7.72-7.72 1.47 1.35L5.41 20z\"/>\n",
              "  </svg>\n",
              "      </button>\n",
              "      \n",
              "  <style>\n",
              "    .colab-df-container {\n",
              "      display:flex;\n",
              "      flex-wrap:wrap;\n",
              "      gap: 12px;\n",
              "    }\n",
              "\n",
              "    .colab-df-convert {\n",
              "      background-color: #E8F0FE;\n",
              "      border: none;\n",
              "      border-radius: 50%;\n",
              "      cursor: pointer;\n",
              "      display: none;\n",
              "      fill: #1967D2;\n",
              "      height: 32px;\n",
              "      padding: 0 0 0 0;\n",
              "      width: 32px;\n",
              "    }\n",
              "\n",
              "    .colab-df-convert:hover {\n",
              "      background-color: #E2EBFA;\n",
              "      box-shadow: 0px 1px 2px rgba(60, 64, 67, 0.3), 0px 1px 3px 1px rgba(60, 64, 67, 0.15);\n",
              "      fill: #174EA6;\n",
              "    }\n",
              "\n",
              "    [theme=dark] .colab-df-convert {\n",
              "      background-color: #3B4455;\n",
              "      fill: #D2E3FC;\n",
              "    }\n",
              "\n",
              "    [theme=dark] .colab-df-convert:hover {\n",
              "      background-color: #434B5C;\n",
              "      box-shadow: 0px 1px 3px 1px rgba(0, 0, 0, 0.15);\n",
              "      filter: drop-shadow(0px 1px 2px rgba(0, 0, 0, 0.3));\n",
              "      fill: #FFFFFF;\n",
              "    }\n",
              "  </style>\n",
              "\n",
              "      <script>\n",
              "        const buttonEl =\n",
              "          document.querySelector('#df-6df901fb-f09d-4581-afd9-982d25b50a51 button.colab-df-convert');\n",
              "        buttonEl.style.display =\n",
              "          google.colab.kernel.accessAllowed ? 'block' : 'none';\n",
              "\n",
              "        async function convertToInteractive(key) {\n",
              "          const element = document.querySelector('#df-6df901fb-f09d-4581-afd9-982d25b50a51');\n",
              "          const dataTable =\n",
              "            await google.colab.kernel.invokeFunction('convertToInteractive',\n",
              "                                                     [key], {});\n",
              "          if (!dataTable) return;\n",
              "\n",
              "          const docLinkHtml = 'Like what you see? Visit the ' +\n",
              "            '<a target=\"_blank\" href=https://colab.research.google.com/notebooks/data_table.ipynb>data table notebook</a>'\n",
              "            + ' to learn more about interactive tables.';\n",
              "          element.innerHTML = '';\n",
              "          dataTable['output_type'] = 'display_data';\n",
              "          await google.colab.output.renderOutput(dataTable, element);\n",
              "          const docLink = document.createElement('div');\n",
              "          docLink.innerHTML = docLinkHtml;\n",
              "          element.appendChild(docLink);\n",
              "        }\n",
              "      </script>\n",
              "    </div>\n",
              "  </div>\n",
              "  "
            ]
          },
          "metadata": {},
          "execution_count": 145
        }
      ]
    },
    {
      "cell_type": "code",
      "source": [
        "n_zonas = len(df['ID_ZONA'].unique())\n",
        "print('Há {} zonas diferentes no Brasil'.format(str(n_zonas)))"
      ],
      "metadata": {
        "colab": {
          "base_uri": "https://localhost:8080/"
        },
        "id": "LcLQ-qpLjOs8",
        "outputId": "1902a650-3cbf-4648-9ba1-0fe3a6b31118"
      },
      "execution_count": null,
      "outputs": [
        {
          "output_type": "stream",
          "name": "stdout",
          "text": [
            "Há 6207 zonas diferentes no Brasil\n"
          ]
        }
      ]
    },
    {
      "cell_type": "code",
      "source": [
        "n_loc = len(df['LOC'].unique())\n",
        "print('Há {} localidades diferentes no Brasil'.format(str(n_loc)))"
      ],
      "metadata": {
        "colab": {
          "base_uri": "https://localhost:8080/"
        },
        "id": "ssxL8QJ3_MgR",
        "outputId": "62d51c59-9843-4786-932a-808deae81d75"
      },
      "execution_count": null,
      "outputs": [
        {
          "output_type": "stream",
          "name": "stdout",
          "text": [
            "Há 84496 localidades diferentes no Brasil\n"
          ]
        }
      ]
    },
    {
      "cell_type": "code",
      "source": [
        "#tirando as colunas sem informacao do modelo de urna ()\n",
        "df = df[df['LOG_MODELO']!= '-']\n"
      ],
      "metadata": {
        "id": "28uMX-ECjQl6"
      },
      "execution_count": null,
      "outputs": []
    },
    {
      "cell_type": "code",
      "source": [
        "#Estudando um exemplo\n",
        "df[(df['NM_MUNICIPIO']== 'CAMPO GRANDE') & (df['UF']== 'MS') & (df['NR_ZONA']== 36)]['LOC'].unique()"
      ],
      "metadata": {
        "colab": {
          "base_uri": "https://localhost:8080/"
        },
        "id": "Psx5d2ZxnRpx",
        "outputId": "20b6e089-b3f7-41ae-ef1e-969fec0455f8"
      },
      "execution_count": null,
      "outputs": [
        {
          "output_type": "execute_result",
          "data": {
            "text/plain": [
              "array(['ASSOCIAÇÃO ESPORTIVA E CULTURAL NIPO BRASILEIRA',\n",
              "       'EE JOAQUIM MURTINHO', 'EM PROF.  ARLINDO LIMA',\n",
              "       'CENTRO UNIVERSITÁRIO DA GRANDE DOURADOS - UNIGRAN',\n",
              "       'COLEGIO DOM BOSCO', 'COLEGIO NOSSA SENHORA AUXILIADORA',\n",
              "       'EE LÚCIA MARTINS COELHO', 'EM PROF. LUIS ANTONIO DE SÁ CARVALHO',\n",
              "       'EE NICOLAU FRAGELLI', 'EE SÃO JOSÉ', 'EE 26 DE AGOSTO',\n",
              "       'COLÉGIO SÃO FRANCISCO EDUCAÇÃO INFANTIL E ENSINO FUNDAMENTAL',\n",
              "       'EE PROF. SEVERINO DE QUEIROZ',\n",
              "       'EE PROFESSOR HENRIQUE CIRILO CORREA',\n",
              "       'SALAO PAROQUIAL DA IGREJA SAO JOAO BOSCO',\n",
              "       'ESCOLA ALEXANDER FLEMING',\n",
              "       'ESCOLA HARMONIA BILÍNGUE - UNIDADE III',\n",
              "       'EM PROFESSORA DANDA NUNES',\n",
              "       'CESUMAR - CENTRO DE ENSINO SUPERIOR DE MARINGÁ',\n",
              "       'EE ADVOGADO DEMOSTHENES MARTINS', 'EM ETALIVIO PEREIRA MARTINS',\n",
              "       'CENTRO COMUNITÁRIO DA IGREJA SÃO PEDRO APÓSTOLO',\n",
              "       'EM CORONEL ANTONINO', 'EE JOELINA ALMEIDA XAVIER',\n",
              "       'EE ARTHUR DE VASCONCELOS DIAS', 'EE PADRE JOAO GREINER',\n",
              "       'EE JOSE MARIA HUGO RODRIGUES',\n",
              "       'FUNLEC - COLÉGIO PROF. LOURIVAL MARTINS FAGUNDES',\n",
              "       'EM PROFESSOR VANDERLEI ROSA DE OLIVEIRA',\n",
              "       'EM CONSULESA MARGARIDA MAKSOUD TRAD', 'EM ELPIDIO REIS',\n",
              "       'COLÉGIO IMPACTO (ANTIGA ESCOLA CEAPE)',\n",
              "       'EM JOAO DE PAULA RIBEIRO', 'ESCOLA GENERAL OSÓRIO',\n",
              "       'EM PROFESSOR VIRGÍLIO ALVES DE CAMPOS', 'SEBRAE',\n",
              "       'COLÉGIO CRISTÃO ALIANÇADOS', 'CEINF-LÚCIA ÂNGELA DE CASTRO COSTA',\n",
              "       'INSTITUTO SUL MATOGROSSENSE PARA CEGOS - ISMAC',\n",
              "       'SEMED - SECRETARIA MUNICIPAL DE EDUCAÇÃO',\n",
              "       'COMUNIDADE NOSSA SENHORA AUXILIADORA'], dtype=object)"
            ]
          },
          "metadata": {},
          "execution_count": 149
        }
      ]
    },
    {
      "cell_type": "code",
      "source": [
        "#Criando a variável diferenca percentual\n",
        "df['diff_media'] = (df['T2QT22'] -\tdf['T2QT13'])/df['T2QTVAL']\t"
      ],
      "metadata": {
        "id": "oYsVr_qcA2tE"
      },
      "execution_count": null,
      "outputs": []
    },
    {
      "cell_type": "code",
      "source": [
        "# Agrupa Zonas e modelos de urna, e conta quantas observacoes únicas existem\n",
        "# A terceira coluna mostra o número de zonas e modelos de urna únicos\n",
        "df_zona_modelo = df.groupby(['ID_ZONA', 'LOG_MODELO','LOG_FG2020']).size()"
      ],
      "metadata": {
        "id": "ha9ix4jVxdwT"
      },
      "execution_count": null,
      "outputs": []
    },
    {
      "cell_type": "code",
      "source": [],
      "metadata": {
        "id": "mZhf1eNw_hcA"
      },
      "execution_count": null,
      "outputs": []
    },
    {
      "cell_type": "code",
      "source": [],
      "metadata": {
        "id": "-Bonxj57x0Kk"
      },
      "execution_count": null,
      "outputs": []
    },
    {
      "cell_type": "code",
      "source": [
        "# Agora com Localidades\n",
        "df_loc_modelo = df.groupby(['LOC', 'LOG_MODELO','LOG_FG2020']).size()\n",
        "df_loc_modelo = pd.DataFrame(df_loc_modelo).reset_index()\n",
        "df_loc_modelo"
      ],
      "metadata": {
        "colab": {
          "base_uri": "https://localhost:8080/",
          "height": 424
        },
        "id": "d4xkJZ3S_tQX",
        "outputId": "f91d3a0a-68dc-4d71-b210-7baf83382204"
      },
      "execution_count": null,
      "outputs": [
        {
          "output_type": "execute_result",
          "data": {
            "text/plain": [
              "                                                   LOC LOG_MODELO  LOG_FG2020  \\\n",
              "0         (ANTIGA) ESCOLA MUNICIPAL FLORENCIO DE ABREU     UE2009           0   \n",
              "1                                         (APAE) CRAEE     UE2010           0   \n",
              "2         (BRIZOLINHA) ESCOLA ESTADUAL GILBERTO FREIRE     UE2009           0   \n",
              "3            (CAIC) EETI DOM ANTONIO CAMPELO DE ARAGÃO     UE2010           0   \n",
              "4                (CAIC)ESCOLA MUNICIPAL CAPITÃO WAGNER     UE2009           0   \n",
              "...                                                ...        ...         ...   \n",
              "98503                       ÍNDIO MARAJÓ E.E. INDÍGENA     UE2015           0   \n",
              "98504                         ÍNDIO MAURO E.E INDÍGENA     UE2015           0   \n",
              "98505                                      ÓRBIS CLUBE     UE2015           0   \n",
              "98506  ÓZIMO LOPES DOS SANTOS (EMEF -D-19 (SANTA CRUZ)     UE2020           1   \n",
              "98507                                            ÚNICA     UE2010           0   \n",
              "\n",
              "        0  \n",
              "0       1  \n",
              "1       3  \n",
              "2       2  \n",
              "3       4  \n",
              "4      18  \n",
              "...    ..  \n",
              "98503   2  \n",
              "98504   1  \n",
              "98505   1  \n",
              "98506   1  \n",
              "98507   2  \n",
              "\n",
              "[98508 rows x 4 columns]"
            ],
            "text/html": [
              "\n",
              "  <div id=\"df-6ba94674-0dc5-4df6-b607-40d579d5034f\">\n",
              "    <div class=\"colab-df-container\">\n",
              "      <div>\n",
              "<style scoped>\n",
              "    .dataframe tbody tr th:only-of-type {\n",
              "        vertical-align: middle;\n",
              "    }\n",
              "\n",
              "    .dataframe tbody tr th {\n",
              "        vertical-align: top;\n",
              "    }\n",
              "\n",
              "    .dataframe thead th {\n",
              "        text-align: right;\n",
              "    }\n",
              "</style>\n",
              "<table border=\"1\" class=\"dataframe\">\n",
              "  <thead>\n",
              "    <tr style=\"text-align: right;\">\n",
              "      <th></th>\n",
              "      <th>LOC</th>\n",
              "      <th>LOG_MODELO</th>\n",
              "      <th>LOG_FG2020</th>\n",
              "      <th>0</th>\n",
              "    </tr>\n",
              "  </thead>\n",
              "  <tbody>\n",
              "    <tr>\n",
              "      <th>0</th>\n",
              "      <td>(ANTIGA) ESCOLA MUNICIPAL FLORENCIO DE ABREU</td>\n",
              "      <td>UE2009</td>\n",
              "      <td>0</td>\n",
              "      <td>1</td>\n",
              "    </tr>\n",
              "    <tr>\n",
              "      <th>1</th>\n",
              "      <td>(APAE) CRAEE</td>\n",
              "      <td>UE2010</td>\n",
              "      <td>0</td>\n",
              "      <td>3</td>\n",
              "    </tr>\n",
              "    <tr>\n",
              "      <th>2</th>\n",
              "      <td>(BRIZOLINHA) ESCOLA ESTADUAL GILBERTO FREIRE</td>\n",
              "      <td>UE2009</td>\n",
              "      <td>0</td>\n",
              "      <td>2</td>\n",
              "    </tr>\n",
              "    <tr>\n",
              "      <th>3</th>\n",
              "      <td>(CAIC) EETI DOM ANTONIO CAMPELO DE ARAGÃO</td>\n",
              "      <td>UE2010</td>\n",
              "      <td>0</td>\n",
              "      <td>4</td>\n",
              "    </tr>\n",
              "    <tr>\n",
              "      <th>4</th>\n",
              "      <td>(CAIC)ESCOLA MUNICIPAL CAPITÃO WAGNER</td>\n",
              "      <td>UE2009</td>\n",
              "      <td>0</td>\n",
              "      <td>18</td>\n",
              "    </tr>\n",
              "    <tr>\n",
              "      <th>...</th>\n",
              "      <td>...</td>\n",
              "      <td>...</td>\n",
              "      <td>...</td>\n",
              "      <td>...</td>\n",
              "    </tr>\n",
              "    <tr>\n",
              "      <th>98503</th>\n",
              "      <td>ÍNDIO MARAJÓ E.E. INDÍGENA</td>\n",
              "      <td>UE2015</td>\n",
              "      <td>0</td>\n",
              "      <td>2</td>\n",
              "    </tr>\n",
              "    <tr>\n",
              "      <th>98504</th>\n",
              "      <td>ÍNDIO MAURO E.E INDÍGENA</td>\n",
              "      <td>UE2015</td>\n",
              "      <td>0</td>\n",
              "      <td>1</td>\n",
              "    </tr>\n",
              "    <tr>\n",
              "      <th>98505</th>\n",
              "      <td>ÓRBIS CLUBE</td>\n",
              "      <td>UE2015</td>\n",
              "      <td>0</td>\n",
              "      <td>1</td>\n",
              "    </tr>\n",
              "    <tr>\n",
              "      <th>98506</th>\n",
              "      <td>ÓZIMO LOPES DOS SANTOS (EMEF -D-19 (SANTA CRUZ)</td>\n",
              "      <td>UE2020</td>\n",
              "      <td>1</td>\n",
              "      <td>1</td>\n",
              "    </tr>\n",
              "    <tr>\n",
              "      <th>98507</th>\n",
              "      <td>ÚNICA</td>\n",
              "      <td>UE2010</td>\n",
              "      <td>0</td>\n",
              "      <td>2</td>\n",
              "    </tr>\n",
              "  </tbody>\n",
              "</table>\n",
              "<p>98508 rows × 4 columns</p>\n",
              "</div>\n",
              "      <button class=\"colab-df-convert\" onclick=\"convertToInteractive('df-6ba94674-0dc5-4df6-b607-40d579d5034f')\"\n",
              "              title=\"Convert this dataframe to an interactive table.\"\n",
              "              style=\"display:none;\">\n",
              "        \n",
              "  <svg xmlns=\"http://www.w3.org/2000/svg\" height=\"24px\"viewBox=\"0 0 24 24\"\n",
              "       width=\"24px\">\n",
              "    <path d=\"M0 0h24v24H0V0z\" fill=\"none\"/>\n",
              "    <path d=\"M18.56 5.44l.94 2.06.94-2.06 2.06-.94-2.06-.94-.94-2.06-.94 2.06-2.06.94zm-11 1L8.5 8.5l.94-2.06 2.06-.94-2.06-.94L8.5 2.5l-.94 2.06-2.06.94zm10 10l.94 2.06.94-2.06 2.06-.94-2.06-.94-.94-2.06-.94 2.06-2.06.94z\"/><path d=\"M17.41 7.96l-1.37-1.37c-.4-.4-.92-.59-1.43-.59-.52 0-1.04.2-1.43.59L10.3 9.45l-7.72 7.72c-.78.78-.78 2.05 0 2.83L4 21.41c.39.39.9.59 1.41.59.51 0 1.02-.2 1.41-.59l7.78-7.78 2.81-2.81c.8-.78.8-2.07 0-2.86zM5.41 20L4 18.59l7.72-7.72 1.47 1.35L5.41 20z\"/>\n",
              "  </svg>\n",
              "      </button>\n",
              "      \n",
              "  <style>\n",
              "    .colab-df-container {\n",
              "      display:flex;\n",
              "      flex-wrap:wrap;\n",
              "      gap: 12px;\n",
              "    }\n",
              "\n",
              "    .colab-df-convert {\n",
              "      background-color: #E8F0FE;\n",
              "      border: none;\n",
              "      border-radius: 50%;\n",
              "      cursor: pointer;\n",
              "      display: none;\n",
              "      fill: #1967D2;\n",
              "      height: 32px;\n",
              "      padding: 0 0 0 0;\n",
              "      width: 32px;\n",
              "    }\n",
              "\n",
              "    .colab-df-convert:hover {\n",
              "      background-color: #E2EBFA;\n",
              "      box-shadow: 0px 1px 2px rgba(60, 64, 67, 0.3), 0px 1px 3px 1px rgba(60, 64, 67, 0.15);\n",
              "      fill: #174EA6;\n",
              "    }\n",
              "\n",
              "    [theme=dark] .colab-df-convert {\n",
              "      background-color: #3B4455;\n",
              "      fill: #D2E3FC;\n",
              "    }\n",
              "\n",
              "    [theme=dark] .colab-df-convert:hover {\n",
              "      background-color: #434B5C;\n",
              "      box-shadow: 0px 1px 3px 1px rgba(0, 0, 0, 0.15);\n",
              "      filter: drop-shadow(0px 1px 2px rgba(0, 0, 0, 0.3));\n",
              "      fill: #FFFFFF;\n",
              "    }\n",
              "  </style>\n",
              "\n",
              "      <script>\n",
              "        const buttonEl =\n",
              "          document.querySelector('#df-6ba94674-0dc5-4df6-b607-40d579d5034f button.colab-df-convert');\n",
              "        buttonEl.style.display =\n",
              "          google.colab.kernel.accessAllowed ? 'block' : 'none';\n",
              "\n",
              "        async function convertToInteractive(key) {\n",
              "          const element = document.querySelector('#df-6ba94674-0dc5-4df6-b607-40d579d5034f');\n",
              "          const dataTable =\n",
              "            await google.colab.kernel.invokeFunction('convertToInteractive',\n",
              "                                                     [key], {});\n",
              "          if (!dataTable) return;\n",
              "\n",
              "          const docLinkHtml = 'Like what you see? Visit the ' +\n",
              "            '<a target=\"_blank\" href=https://colab.research.google.com/notebooks/data_table.ipynb>data table notebook</a>'\n",
              "            + ' to learn more about interactive tables.';\n",
              "          element.innerHTML = '';\n",
              "          dataTable['output_type'] = 'display_data';\n",
              "          await google.colab.output.renderOutput(dataTable, element);\n",
              "          const docLink = document.createElement('div');\n",
              "          docLink.innerHTML = docLinkHtml;\n",
              "          element.appendChild(docLink);\n",
              "        }\n",
              "      </script>\n",
              "    </div>\n",
              "  </div>\n",
              "  "
            ]
          },
          "metadata": {},
          "execution_count": 152
        }
      ]
    },
    {
      "cell_type": "code",
      "source": [
        "# Aqui eu conto quantas zonas possuem mais de um tipo de urna\n",
        "df_zonas_audit = df_zona_modelo.groupby(['ID_ZONA']).size()\n",
        "\n",
        "df_zonas_audit = pd.DataFrame(df_zonas_audit.sort_values(ascending = False))\n",
        "\n",
        "df_zonas_audit = df_zonas_audit.reset_index()\n",
        "\n",
        "#double checking\n",
        "#df_zona_modelo.pivot_table(columns=['ID_ZONA'], aggfunc='size').sort_values(ascending = False)"
      ],
      "metadata": {
        "id": "EciMpg4D1MZ1"
      },
      "execution_count": null,
      "outputs": []
    },
    {
      "cell_type": "code",
      "source": [
        "# Agora com Localidades\n",
        "df_loc_audit = df_loc_modelo.groupby(['LOC']).size()\n",
        "\n",
        "df_loc_audit = pd.DataFrame(df_loc_audit.sort_values(ascending = False))\n",
        "\n",
        "df_loc_audit = df_loc_audit.reset_index()\n",
        "\n",
        "#double checking\n",
        "#df_loc_modelo.pivot_table(columns=['ID_ZONA'], aggfunc='size').sort_values(ascending = False)"
      ],
      "metadata": {
        "id": "f8fGynpQAAt3"
      },
      "execution_count": null,
      "outputs": []
    },
    {
      "cell_type": "code",
      "source": [
        "#cria a lista de zonas para serem estudadas (Aquelas que tiverem ao menos mais de dois tipos de urna)\n",
        "lista_de_zonas_1 = df_zonas_audit[df_zonas_audit[0] > 1]['ID_ZONA']"
      ],
      "metadata": {
        "id": "oB7XoPU571CK"
      },
      "execution_count": null,
      "outputs": []
    },
    {
      "cell_type": "code",
      "source": [
        "#retira as zonas que tem mais de um tipo de urna, porém nao tem nenhuma modelo 2020\n",
        "lista_de_zonas_2 = df[(df['ID_ZONA'].isin(lista_de_zonas_1))][['ID_ZONA','LOG_FG2020']]\n",
        "lista_de_zonas_2 = lista_de_zonas_2.groupby('ID_ZONA').sum().reset_index()\n",
        "\n",
        "lista_de_zonas_2 = lista_de_zonas_2[lista_de_zonas_2['LOG_FG2020']!= 0]['ID_ZONA']\n",
        "lista_de_zonas_2"
      ],
      "metadata": {
        "colab": {
          "base_uri": "https://localhost:8080/"
        },
        "id": "-zT-r1O3DSQA",
        "outputId": "b19e8a35-12aa-461b-f021-294f3eeb8ce2"
      },
      "execution_count": null,
      "outputs": [
        {
          "output_type": "execute_result",
          "data": {
            "text/plain": [
              "45       1392_1\n",
              "46       1392_9\n",
              "61       1538_8\n",
              "94       2550_1\n",
              "95       2550_2\n",
              "         ...   \n",
              "1739    93858_2\n",
              "1749    95192_7\n",
              "1755    95591_3\n",
              "1757    9571_57\n",
              "1765    9652_80\n",
              "Name: ID_ZONA, Length: 459, dtype: object"
            ]
          },
          "metadata": {},
          "execution_count": 156
        }
      ]
    },
    {
      "cell_type": "code",
      "source": [
        "#Agora com localidades\n",
        "#cria a lista de loc para serem estudadas (Aquelas que tiverem ao menos mais de dois tipos de urna)\n",
        "lista_de_loc_1 = df_loc_audit[df_loc_audit[0] > 1]['LOC']\n",
        "lista_de_loc_2 = df[(df['LOC'].isin(lista_de_loc_1))][['LOC','LOG_FG2020']]\n",
        "lista_de_loc_2 = lista_de_loc_2.groupby('LOC').sum().reset_index()\n",
        "\n",
        "lista_de_loc_2 = lista_de_loc_2[lista_de_loc_2['LOG_FG2020']!= 0]['LOC']\n",
        "lista_de_loc_2"
      ],
      "metadata": {
        "colab": {
          "base_uri": "https://localhost:8080/"
        },
        "id": "mZsi9nOuAY-A",
        "outputId": "c86dc3fa-9318-483e-a6a5-4b4232181e58"
      },
      "execution_count": null,
      "outputs": [
        {
          "output_type": "execute_result",
          "data": {
            "text/plain": [
              "9                                                    AABB\n",
              "16                                        AGENCIA DO INSS\n",
              "17                                        AGÊNCIA DO INSS\n",
              "44                                                   APAE\n",
              "46      APAE - ASSOCIAÇÃO DE PAIS E AMIGOS DOS EXCEPCI...\n",
              "                              ...                        \n",
              "9229               UNIVERSIDADE CRUZEIRO DO SUL - UNICSUL\n",
              "9237                           UNIVERSIDADE ESTACIO DE SA\n",
              "9245                           UNIVERSIDADE ESTÁCIO DE SÁ\n",
              "9256                                               UNOPAR\n",
              "9259                     USF - UNIVERSIDADE SÃO FRANCISCO\n",
              "Name: LOC, Length: 1434, dtype: object"
            ]
          },
          "metadata": {},
          "execution_count": 157
        }
      ]
    },
    {
      "cell_type": "code",
      "source": [
        "\n",
        "df_calculo = df[(df['ID_ZONA'].isin(lista_de_zonas_2)) ][['ID_ZONA','LOG_MODELO','LOG_FG2020','diff_media','SECAO']]\n"
      ],
      "metadata": {
        "id": "_TT6fCvy3dGZ"
      },
      "execution_count": null,
      "outputs": []
    },
    {
      "cell_type": "code",
      "source": [],
      "metadata": {
        "id": "h51b0TKvBN7Q"
      },
      "execution_count": null,
      "outputs": []
    },
    {
      "cell_type": "code",
      "source": [
        "df_final = df_calculo.groupby(['ID_ZONA', 'LOG_FG2020']).mean().reset_index()"
      ],
      "metadata": {
        "id": "IM5n4iz-F9nx"
      },
      "execution_count": null,
      "outputs": []
    },
    {
      "cell_type": "code",
      "source": [
        "df_final.groupby('LOG_FG2020').mean()"
      ],
      "metadata": {
        "colab": {
          "base_uri": "https://localhost:8080/",
          "height": 143
        },
        "id": "efJT_A5v5DyF",
        "outputId": "549f55c3-6a56-4e5f-a30f-c1b18a02b78b"
      },
      "execution_count": null,
      "outputs": [
        {
          "output_type": "execute_result",
          "data": {
            "text/plain": [
              "            diff_media\n",
              "LOG_FG2020            \n",
              "0             0.140039\n",
              "1             0.176183"
            ],
            "text/html": [
              "\n",
              "  <div id=\"df-77eced28-8251-4c0e-a7e7-d64b70ce85aa\">\n",
              "    <div class=\"colab-df-container\">\n",
              "      <div>\n",
              "<style scoped>\n",
              "    .dataframe tbody tr th:only-of-type {\n",
              "        vertical-align: middle;\n",
              "    }\n",
              "\n",
              "    .dataframe tbody tr th {\n",
              "        vertical-align: top;\n",
              "    }\n",
              "\n",
              "    .dataframe thead th {\n",
              "        text-align: right;\n",
              "    }\n",
              "</style>\n",
              "<table border=\"1\" class=\"dataframe\">\n",
              "  <thead>\n",
              "    <tr style=\"text-align: right;\">\n",
              "      <th></th>\n",
              "      <th>diff_media</th>\n",
              "    </tr>\n",
              "    <tr>\n",
              "      <th>LOG_FG2020</th>\n",
              "      <th></th>\n",
              "    </tr>\n",
              "  </thead>\n",
              "  <tbody>\n",
              "    <tr>\n",
              "      <th>0</th>\n",
              "      <td>0.140039</td>\n",
              "    </tr>\n",
              "    <tr>\n",
              "      <th>1</th>\n",
              "      <td>0.176183</td>\n",
              "    </tr>\n",
              "  </tbody>\n",
              "</table>\n",
              "</div>\n",
              "      <button class=\"colab-df-convert\" onclick=\"convertToInteractive('df-77eced28-8251-4c0e-a7e7-d64b70ce85aa')\"\n",
              "              title=\"Convert this dataframe to an interactive table.\"\n",
              "              style=\"display:none;\">\n",
              "        \n",
              "  <svg xmlns=\"http://www.w3.org/2000/svg\" height=\"24px\"viewBox=\"0 0 24 24\"\n",
              "       width=\"24px\">\n",
              "    <path d=\"M0 0h24v24H0V0z\" fill=\"none\"/>\n",
              "    <path d=\"M18.56 5.44l.94 2.06.94-2.06 2.06-.94-2.06-.94-.94-2.06-.94 2.06-2.06.94zm-11 1L8.5 8.5l.94-2.06 2.06-.94-2.06-.94L8.5 2.5l-.94 2.06-2.06.94zm10 10l.94 2.06.94-2.06 2.06-.94-2.06-.94-.94-2.06-.94 2.06-2.06.94z\"/><path d=\"M17.41 7.96l-1.37-1.37c-.4-.4-.92-.59-1.43-.59-.52 0-1.04.2-1.43.59L10.3 9.45l-7.72 7.72c-.78.78-.78 2.05 0 2.83L4 21.41c.39.39.9.59 1.41.59.51 0 1.02-.2 1.41-.59l7.78-7.78 2.81-2.81c.8-.78.8-2.07 0-2.86zM5.41 20L4 18.59l7.72-7.72 1.47 1.35L5.41 20z\"/>\n",
              "  </svg>\n",
              "      </button>\n",
              "      \n",
              "  <style>\n",
              "    .colab-df-container {\n",
              "      display:flex;\n",
              "      flex-wrap:wrap;\n",
              "      gap: 12px;\n",
              "    }\n",
              "\n",
              "    .colab-df-convert {\n",
              "      background-color: #E8F0FE;\n",
              "      border: none;\n",
              "      border-radius: 50%;\n",
              "      cursor: pointer;\n",
              "      display: none;\n",
              "      fill: #1967D2;\n",
              "      height: 32px;\n",
              "      padding: 0 0 0 0;\n",
              "      width: 32px;\n",
              "    }\n",
              "\n",
              "    .colab-df-convert:hover {\n",
              "      background-color: #E2EBFA;\n",
              "      box-shadow: 0px 1px 2px rgba(60, 64, 67, 0.3), 0px 1px 3px 1px rgba(60, 64, 67, 0.15);\n",
              "      fill: #174EA6;\n",
              "    }\n",
              "\n",
              "    [theme=dark] .colab-df-convert {\n",
              "      background-color: #3B4455;\n",
              "      fill: #D2E3FC;\n",
              "    }\n",
              "\n",
              "    [theme=dark] .colab-df-convert:hover {\n",
              "      background-color: #434B5C;\n",
              "      box-shadow: 0px 1px 3px 1px rgba(0, 0, 0, 0.15);\n",
              "      filter: drop-shadow(0px 1px 2px rgba(0, 0, 0, 0.3));\n",
              "      fill: #FFFFFF;\n",
              "    }\n",
              "  </style>\n",
              "\n",
              "      <script>\n",
              "        const buttonEl =\n",
              "          document.querySelector('#df-77eced28-8251-4c0e-a7e7-d64b70ce85aa button.colab-df-convert');\n",
              "        buttonEl.style.display =\n",
              "          google.colab.kernel.accessAllowed ? 'block' : 'none';\n",
              "\n",
              "        async function convertToInteractive(key) {\n",
              "          const element = document.querySelector('#df-77eced28-8251-4c0e-a7e7-d64b70ce85aa');\n",
              "          const dataTable =\n",
              "            await google.colab.kernel.invokeFunction('convertToInteractive',\n",
              "                                                     [key], {});\n",
              "          if (!dataTable) return;\n",
              "\n",
              "          const docLinkHtml = 'Like what you see? Visit the ' +\n",
              "            '<a target=\"_blank\" href=https://colab.research.google.com/notebooks/data_table.ipynb>data table notebook</a>'\n",
              "            + ' to learn more about interactive tables.';\n",
              "          element.innerHTML = '';\n",
              "          dataTable['output_type'] = 'display_data';\n",
              "          await google.colab.output.renderOutput(dataTable, element);\n",
              "          const docLink = document.createElement('div');\n",
              "          docLink.innerHTML = docLinkHtml;\n",
              "          element.appendChild(docLink);\n",
              "        }\n",
              "      </script>\n",
              "    </div>\n",
              "  </div>\n",
              "  "
            ]
          },
          "metadata": {},
          "execution_count": 160
        }
      ]
    },
    {
      "cell_type": "code",
      "source": [
        "df_final.groupby('LOG_FG2020').count()"
      ],
      "metadata": {
        "colab": {
          "base_uri": "https://localhost:8080/",
          "height": 143
        },
        "id": "kHG_4Fx580KQ",
        "outputId": "9e62a848-4ec6-401f-a946-cb1c81977fe1"
      },
      "execution_count": null,
      "outputs": [
        {
          "output_type": "execute_result",
          "data": {
            "text/plain": [
              "            ID_ZONA  diff_media\n",
              "LOG_FG2020                     \n",
              "0               459         459\n",
              "1               459         459"
            ],
            "text/html": [
              "\n",
              "  <div id=\"df-41c6be73-4bca-4ce3-a4ba-826338527e0f\">\n",
              "    <div class=\"colab-df-container\">\n",
              "      <div>\n",
              "<style scoped>\n",
              "    .dataframe tbody tr th:only-of-type {\n",
              "        vertical-align: middle;\n",
              "    }\n",
              "\n",
              "    .dataframe tbody tr th {\n",
              "        vertical-align: top;\n",
              "    }\n",
              "\n",
              "    .dataframe thead th {\n",
              "        text-align: right;\n",
              "    }\n",
              "</style>\n",
              "<table border=\"1\" class=\"dataframe\">\n",
              "  <thead>\n",
              "    <tr style=\"text-align: right;\">\n",
              "      <th></th>\n",
              "      <th>ID_ZONA</th>\n",
              "      <th>diff_media</th>\n",
              "    </tr>\n",
              "    <tr>\n",
              "      <th>LOG_FG2020</th>\n",
              "      <th></th>\n",
              "      <th></th>\n",
              "    </tr>\n",
              "  </thead>\n",
              "  <tbody>\n",
              "    <tr>\n",
              "      <th>0</th>\n",
              "      <td>459</td>\n",
              "      <td>459</td>\n",
              "    </tr>\n",
              "    <tr>\n",
              "      <th>1</th>\n",
              "      <td>459</td>\n",
              "      <td>459</td>\n",
              "    </tr>\n",
              "  </tbody>\n",
              "</table>\n",
              "</div>\n",
              "      <button class=\"colab-df-convert\" onclick=\"convertToInteractive('df-41c6be73-4bca-4ce3-a4ba-826338527e0f')\"\n",
              "              title=\"Convert this dataframe to an interactive table.\"\n",
              "              style=\"display:none;\">\n",
              "        \n",
              "  <svg xmlns=\"http://www.w3.org/2000/svg\" height=\"24px\"viewBox=\"0 0 24 24\"\n",
              "       width=\"24px\">\n",
              "    <path d=\"M0 0h24v24H0V0z\" fill=\"none\"/>\n",
              "    <path d=\"M18.56 5.44l.94 2.06.94-2.06 2.06-.94-2.06-.94-.94-2.06-.94 2.06-2.06.94zm-11 1L8.5 8.5l.94-2.06 2.06-.94-2.06-.94L8.5 2.5l-.94 2.06-2.06.94zm10 10l.94 2.06.94-2.06 2.06-.94-2.06-.94-.94-2.06-.94 2.06-2.06.94z\"/><path d=\"M17.41 7.96l-1.37-1.37c-.4-.4-.92-.59-1.43-.59-.52 0-1.04.2-1.43.59L10.3 9.45l-7.72 7.72c-.78.78-.78 2.05 0 2.83L4 21.41c.39.39.9.59 1.41.59.51 0 1.02-.2 1.41-.59l7.78-7.78 2.81-2.81c.8-.78.8-2.07 0-2.86zM5.41 20L4 18.59l7.72-7.72 1.47 1.35L5.41 20z\"/>\n",
              "  </svg>\n",
              "      </button>\n",
              "      \n",
              "  <style>\n",
              "    .colab-df-container {\n",
              "      display:flex;\n",
              "      flex-wrap:wrap;\n",
              "      gap: 12px;\n",
              "    }\n",
              "\n",
              "    .colab-df-convert {\n",
              "      background-color: #E8F0FE;\n",
              "      border: none;\n",
              "      border-radius: 50%;\n",
              "      cursor: pointer;\n",
              "      display: none;\n",
              "      fill: #1967D2;\n",
              "      height: 32px;\n",
              "      padding: 0 0 0 0;\n",
              "      width: 32px;\n",
              "    }\n",
              "\n",
              "    .colab-df-convert:hover {\n",
              "      background-color: #E2EBFA;\n",
              "      box-shadow: 0px 1px 2px rgba(60, 64, 67, 0.3), 0px 1px 3px 1px rgba(60, 64, 67, 0.15);\n",
              "      fill: #174EA6;\n",
              "    }\n",
              "\n",
              "    [theme=dark] .colab-df-convert {\n",
              "      background-color: #3B4455;\n",
              "      fill: #D2E3FC;\n",
              "    }\n",
              "\n",
              "    [theme=dark] .colab-df-convert:hover {\n",
              "      background-color: #434B5C;\n",
              "      box-shadow: 0px 1px 3px 1px rgba(0, 0, 0, 0.15);\n",
              "      filter: drop-shadow(0px 1px 2px rgba(0, 0, 0, 0.3));\n",
              "      fill: #FFFFFF;\n",
              "    }\n",
              "  </style>\n",
              "\n",
              "      <script>\n",
              "        const buttonEl =\n",
              "          document.querySelector('#df-41c6be73-4bca-4ce3-a4ba-826338527e0f button.colab-df-convert');\n",
              "        buttonEl.style.display =\n",
              "          google.colab.kernel.accessAllowed ? 'block' : 'none';\n",
              "\n",
              "        async function convertToInteractive(key) {\n",
              "          const element = document.querySelector('#df-41c6be73-4bca-4ce3-a4ba-826338527e0f');\n",
              "          const dataTable =\n",
              "            await google.colab.kernel.invokeFunction('convertToInteractive',\n",
              "                                                     [key], {});\n",
              "          if (!dataTable) return;\n",
              "\n",
              "          const docLinkHtml = 'Like what you see? Visit the ' +\n",
              "            '<a target=\"_blank\" href=https://colab.research.google.com/notebooks/data_table.ipynb>data table notebook</a>'\n",
              "            + ' to learn more about interactive tables.';\n",
              "          element.innerHTML = '';\n",
              "          dataTable['output_type'] = 'display_data';\n",
              "          await google.colab.output.renderOutput(dataTable, element);\n",
              "          const docLink = document.createElement('div');\n",
              "          docLink.innerHTML = docLinkHtml;\n",
              "          element.appendChild(docLink);\n",
              "        }\n",
              "      </script>\n",
              "    </div>\n",
              "  </div>\n",
              "  "
            ]
          },
          "metadata": {},
          "execution_count": 161
        }
      ]
    },
    {
      "cell_type": "code",
      "source": [
        "# com loc\n",
        "df_calculo_loc = df[(df['LOC'].isin(lista_de_loc_2)) ][['LOC','LOG_MODELO','LOG_FG2020','diff_media','SECAO']]\n",
        "df_final_loc = df_calculo_loc.groupby(['LOC', 'LOG_FG2020']).mean().reset_index()"
      ],
      "metadata": {
        "id": "BxRQwJgDBY4P"
      },
      "execution_count": null,
      "outputs": []
    },
    {
      "cell_type": "code",
      "source": [
        "df_final_loc.groupby('LOG_FG2020').mean()"
      ],
      "metadata": {
        "colab": {
          "base_uri": "https://localhost:8080/",
          "height": 143
        },
        "id": "ZCRxU0SrBl2B",
        "outputId": "f61cfeae-5112-4b1e-b9f8-3842bc7e23f1"
      },
      "execution_count": null,
      "outputs": [
        {
          "output_type": "execute_result",
          "data": {
            "text/plain": [
              "            diff_media\n",
              "LOG_FG2020            \n",
              "0            -0.131663\n",
              "1            -0.092446"
            ],
            "text/html": [
              "\n",
              "  <div id=\"df-86f5b54e-7f42-480a-8c8d-68569f81c1dc\">\n",
              "    <div class=\"colab-df-container\">\n",
              "      <div>\n",
              "<style scoped>\n",
              "    .dataframe tbody tr th:only-of-type {\n",
              "        vertical-align: middle;\n",
              "    }\n",
              "\n",
              "    .dataframe tbody tr th {\n",
              "        vertical-align: top;\n",
              "    }\n",
              "\n",
              "    .dataframe thead th {\n",
              "        text-align: right;\n",
              "    }\n",
              "</style>\n",
              "<table border=\"1\" class=\"dataframe\">\n",
              "  <thead>\n",
              "    <tr style=\"text-align: right;\">\n",
              "      <th></th>\n",
              "      <th>diff_media</th>\n",
              "    </tr>\n",
              "    <tr>\n",
              "      <th>LOG_FG2020</th>\n",
              "      <th></th>\n",
              "    </tr>\n",
              "  </thead>\n",
              "  <tbody>\n",
              "    <tr>\n",
              "      <th>0</th>\n",
              "      <td>-0.131663</td>\n",
              "    </tr>\n",
              "    <tr>\n",
              "      <th>1</th>\n",
              "      <td>-0.092446</td>\n",
              "    </tr>\n",
              "  </tbody>\n",
              "</table>\n",
              "</div>\n",
              "      <button class=\"colab-df-convert\" onclick=\"convertToInteractive('df-86f5b54e-7f42-480a-8c8d-68569f81c1dc')\"\n",
              "              title=\"Convert this dataframe to an interactive table.\"\n",
              "              style=\"display:none;\">\n",
              "        \n",
              "  <svg xmlns=\"http://www.w3.org/2000/svg\" height=\"24px\"viewBox=\"0 0 24 24\"\n",
              "       width=\"24px\">\n",
              "    <path d=\"M0 0h24v24H0V0z\" fill=\"none\"/>\n",
              "    <path d=\"M18.56 5.44l.94 2.06.94-2.06 2.06-.94-2.06-.94-.94-2.06-.94 2.06-2.06.94zm-11 1L8.5 8.5l.94-2.06 2.06-.94-2.06-.94L8.5 2.5l-.94 2.06-2.06.94zm10 10l.94 2.06.94-2.06 2.06-.94-2.06-.94-.94-2.06-.94 2.06-2.06.94z\"/><path d=\"M17.41 7.96l-1.37-1.37c-.4-.4-.92-.59-1.43-.59-.52 0-1.04.2-1.43.59L10.3 9.45l-7.72 7.72c-.78.78-.78 2.05 0 2.83L4 21.41c.39.39.9.59 1.41.59.51 0 1.02-.2 1.41-.59l7.78-7.78 2.81-2.81c.8-.78.8-2.07 0-2.86zM5.41 20L4 18.59l7.72-7.72 1.47 1.35L5.41 20z\"/>\n",
              "  </svg>\n",
              "      </button>\n",
              "      \n",
              "  <style>\n",
              "    .colab-df-container {\n",
              "      display:flex;\n",
              "      flex-wrap:wrap;\n",
              "      gap: 12px;\n",
              "    }\n",
              "\n",
              "    .colab-df-convert {\n",
              "      background-color: #E8F0FE;\n",
              "      border: none;\n",
              "      border-radius: 50%;\n",
              "      cursor: pointer;\n",
              "      display: none;\n",
              "      fill: #1967D2;\n",
              "      height: 32px;\n",
              "      padding: 0 0 0 0;\n",
              "      width: 32px;\n",
              "    }\n",
              "\n",
              "    .colab-df-convert:hover {\n",
              "      background-color: #E2EBFA;\n",
              "      box-shadow: 0px 1px 2px rgba(60, 64, 67, 0.3), 0px 1px 3px 1px rgba(60, 64, 67, 0.15);\n",
              "      fill: #174EA6;\n",
              "    }\n",
              "\n",
              "    [theme=dark] .colab-df-convert {\n",
              "      background-color: #3B4455;\n",
              "      fill: #D2E3FC;\n",
              "    }\n",
              "\n",
              "    [theme=dark] .colab-df-convert:hover {\n",
              "      background-color: #434B5C;\n",
              "      box-shadow: 0px 1px 3px 1px rgba(0, 0, 0, 0.15);\n",
              "      filter: drop-shadow(0px 1px 2px rgba(0, 0, 0, 0.3));\n",
              "      fill: #FFFFFF;\n",
              "    }\n",
              "  </style>\n",
              "\n",
              "      <script>\n",
              "        const buttonEl =\n",
              "          document.querySelector('#df-86f5b54e-7f42-480a-8c8d-68569f81c1dc button.colab-df-convert');\n",
              "        buttonEl.style.display =\n",
              "          google.colab.kernel.accessAllowed ? 'block' : 'none';\n",
              "\n",
              "        async function convertToInteractive(key) {\n",
              "          const element = document.querySelector('#df-86f5b54e-7f42-480a-8c8d-68569f81c1dc');\n",
              "          const dataTable =\n",
              "            await google.colab.kernel.invokeFunction('convertToInteractive',\n",
              "                                                     [key], {});\n",
              "          if (!dataTable) return;\n",
              "\n",
              "          const docLinkHtml = 'Like what you see? Visit the ' +\n",
              "            '<a target=\"_blank\" href=https://colab.research.google.com/notebooks/data_table.ipynb>data table notebook</a>'\n",
              "            + ' to learn more about interactive tables.';\n",
              "          element.innerHTML = '';\n",
              "          dataTable['output_type'] = 'display_data';\n",
              "          await google.colab.output.renderOutput(dataTable, element);\n",
              "          const docLink = document.createElement('div');\n",
              "          docLink.innerHTML = docLinkHtml;\n",
              "          element.appendChild(docLink);\n",
              "        }\n",
              "      </script>\n",
              "    </div>\n",
              "  </div>\n",
              "  "
            ]
          },
          "metadata": {},
          "execution_count": 163
        }
      ]
    },
    {
      "cell_type": "code",
      "source": [
        "df_final_loc.groupby('LOG_FG2020').count()"
      ],
      "metadata": {
        "colab": {
          "base_uri": "https://localhost:8080/",
          "height": 143
        },
        "id": "5AE3znq8BpN4",
        "outputId": "169d3392-9e65-434f-f937-e8ba8fd6fdd1"
      },
      "execution_count": null,
      "outputs": [
        {
          "output_type": "execute_result",
          "data": {
            "text/plain": [
              "             LOC  diff_media\n",
              "LOG_FG2020                  \n",
              "0           1434        1434\n",
              "1           1434        1434"
            ],
            "text/html": [
              "\n",
              "  <div id=\"df-89898ae8-4717-4ad8-a40e-ea2c1ea46201\">\n",
              "    <div class=\"colab-df-container\">\n",
              "      <div>\n",
              "<style scoped>\n",
              "    .dataframe tbody tr th:only-of-type {\n",
              "        vertical-align: middle;\n",
              "    }\n",
              "\n",
              "    .dataframe tbody tr th {\n",
              "        vertical-align: top;\n",
              "    }\n",
              "\n",
              "    .dataframe thead th {\n",
              "        text-align: right;\n",
              "    }\n",
              "</style>\n",
              "<table border=\"1\" class=\"dataframe\">\n",
              "  <thead>\n",
              "    <tr style=\"text-align: right;\">\n",
              "      <th></th>\n",
              "      <th>LOC</th>\n",
              "      <th>diff_media</th>\n",
              "    </tr>\n",
              "    <tr>\n",
              "      <th>LOG_FG2020</th>\n",
              "      <th></th>\n",
              "      <th></th>\n",
              "    </tr>\n",
              "  </thead>\n",
              "  <tbody>\n",
              "    <tr>\n",
              "      <th>0</th>\n",
              "      <td>1434</td>\n",
              "      <td>1434</td>\n",
              "    </tr>\n",
              "    <tr>\n",
              "      <th>1</th>\n",
              "      <td>1434</td>\n",
              "      <td>1434</td>\n",
              "    </tr>\n",
              "  </tbody>\n",
              "</table>\n",
              "</div>\n",
              "      <button class=\"colab-df-convert\" onclick=\"convertToInteractive('df-89898ae8-4717-4ad8-a40e-ea2c1ea46201')\"\n",
              "              title=\"Convert this dataframe to an interactive table.\"\n",
              "              style=\"display:none;\">\n",
              "        \n",
              "  <svg xmlns=\"http://www.w3.org/2000/svg\" height=\"24px\"viewBox=\"0 0 24 24\"\n",
              "       width=\"24px\">\n",
              "    <path d=\"M0 0h24v24H0V0z\" fill=\"none\"/>\n",
              "    <path d=\"M18.56 5.44l.94 2.06.94-2.06 2.06-.94-2.06-.94-.94-2.06-.94 2.06-2.06.94zm-11 1L8.5 8.5l.94-2.06 2.06-.94-2.06-.94L8.5 2.5l-.94 2.06-2.06.94zm10 10l.94 2.06.94-2.06 2.06-.94-2.06-.94-.94-2.06-.94 2.06-2.06.94z\"/><path d=\"M17.41 7.96l-1.37-1.37c-.4-.4-.92-.59-1.43-.59-.52 0-1.04.2-1.43.59L10.3 9.45l-7.72 7.72c-.78.78-.78 2.05 0 2.83L4 21.41c.39.39.9.59 1.41.59.51 0 1.02-.2 1.41-.59l7.78-7.78 2.81-2.81c.8-.78.8-2.07 0-2.86zM5.41 20L4 18.59l7.72-7.72 1.47 1.35L5.41 20z\"/>\n",
              "  </svg>\n",
              "      </button>\n",
              "      \n",
              "  <style>\n",
              "    .colab-df-container {\n",
              "      display:flex;\n",
              "      flex-wrap:wrap;\n",
              "      gap: 12px;\n",
              "    }\n",
              "\n",
              "    .colab-df-convert {\n",
              "      background-color: #E8F0FE;\n",
              "      border: none;\n",
              "      border-radius: 50%;\n",
              "      cursor: pointer;\n",
              "      display: none;\n",
              "      fill: #1967D2;\n",
              "      height: 32px;\n",
              "      padding: 0 0 0 0;\n",
              "      width: 32px;\n",
              "    }\n",
              "\n",
              "    .colab-df-convert:hover {\n",
              "      background-color: #E2EBFA;\n",
              "      box-shadow: 0px 1px 2px rgba(60, 64, 67, 0.3), 0px 1px 3px 1px rgba(60, 64, 67, 0.15);\n",
              "      fill: #174EA6;\n",
              "    }\n",
              "\n",
              "    [theme=dark] .colab-df-convert {\n",
              "      background-color: #3B4455;\n",
              "      fill: #D2E3FC;\n",
              "    }\n",
              "\n",
              "    [theme=dark] .colab-df-convert:hover {\n",
              "      background-color: #434B5C;\n",
              "      box-shadow: 0px 1px 3px 1px rgba(0, 0, 0, 0.15);\n",
              "      filter: drop-shadow(0px 1px 2px rgba(0, 0, 0, 0.3));\n",
              "      fill: #FFFFFF;\n",
              "    }\n",
              "  </style>\n",
              "\n",
              "      <script>\n",
              "        const buttonEl =\n",
              "          document.querySelector('#df-89898ae8-4717-4ad8-a40e-ea2c1ea46201 button.colab-df-convert');\n",
              "        buttonEl.style.display =\n",
              "          google.colab.kernel.accessAllowed ? 'block' : 'none';\n",
              "\n",
              "        async function convertToInteractive(key) {\n",
              "          const element = document.querySelector('#df-89898ae8-4717-4ad8-a40e-ea2c1ea46201');\n",
              "          const dataTable =\n",
              "            await google.colab.kernel.invokeFunction('convertToInteractive',\n",
              "                                                     [key], {});\n",
              "          if (!dataTable) return;\n",
              "\n",
              "          const docLinkHtml = 'Like what you see? Visit the ' +\n",
              "            '<a target=\"_blank\" href=https://colab.research.google.com/notebooks/data_table.ipynb>data table notebook</a>'\n",
              "            + ' to learn more about interactive tables.';\n",
              "          element.innerHTML = '';\n",
              "          dataTable['output_type'] = 'display_data';\n",
              "          await google.colab.output.renderOutput(dataTable, element);\n",
              "          const docLink = document.createElement('div');\n",
              "          docLink.innerHTML = docLinkHtml;\n",
              "          element.appendChild(docLink);\n",
              "        }\n",
              "      </script>\n",
              "    </div>\n",
              "  </div>\n",
              "  "
            ]
          },
          "metadata": {},
          "execution_count": 164
        }
      ]
    },
    {
      "cell_type": "code",
      "source": [
        "dist = []\n",
        "dist = pd.DataFrame(dist)\n",
        "\n",
        "dist['U2020'] = df_final[df_final['LOG_FG2020'] == 1]['diff_media'].values\n",
        "dist['U2XXX'] = df_final[df_final['LOG_FG2020'] == 0]['diff_media'].values\n",
        "\n",
        "\n"
      ],
      "metadata": {
        "id": "oiu7_SoY5ht3"
      },
      "execution_count": null,
      "outputs": []
    },
    {
      "cell_type": "code",
      "source": [
        "dist.plot.hist(alpha = 0.5, bins = 50 )"
      ],
      "metadata": {
        "colab": {
          "base_uri": "https://localhost:8080/",
          "height": 282
        },
        "id": "HoQhedLj_Kke",
        "outputId": "d7dad397-8602-4941-88fb-d6e38f4ea84c"
      },
      "execution_count": null,
      "outputs": [
        {
          "output_type": "execute_result",
          "data": {
            "text/plain": [
              "<matplotlib.axes._subplots.AxesSubplot at 0x7f14150d2a10>"
            ]
          },
          "metadata": {},
          "execution_count": 166
        },
        {
          "output_type": "display_data",
          "data": {
            "text/plain": [
              "<Figure size 432x288 with 1 Axes>"
            ],
            "image/png": "[encoded data removed]"
          },
          "metadata": {
            "needs_background": "light"
          }
        }
      ]
    },
    {
      "cell_type": "code",
      "source": [
        "dist.plot.hist(cumulative=True, density=1, bins=100, alpha=0.5)"
      ],
      "metadata": {
        "colab": {
          "base_uri": "https://localhost:8080/",
          "height": 282
        },
        "id": "aWeL0lIsEPva",
        "outputId": "6c02b8f9-5437-4af4-c2fa-6ae469161968"
      },
      "execution_count": null,
      "outputs": [
        {
          "output_type": "execute_result",
          "data": {
            "text/plain": [
              "<matplotlib.axes._subplots.AxesSubplot at 0x7f1426d65bd0>"
            ]
          },
          "metadata": {},
          "execution_count": 167
        },
        {
          "output_type": "display_data",
          "data": {
            "text/plain": [
              "<Figure size 432x288 with 1 Axes>"
            ],
            "image/png": "[encoded data removed]"
          },
          "metadata": {
            "needs_background": "light"
          }
        }
      ]
    },
    {
      "cell_type": "code",
      "source": [
        "dist_loc = []\n",
        "dist_loc = pd.DataFrame(dist_loc)\n",
        "\n",
        "dist_loc['U2020'] = df_final_loc[df_final_loc['LOG_FG2020'] == 1]['diff_media'].values\n",
        "dist_loc['U2XXX'] = df_final_loc[df_final_loc['LOG_FG2020'] == 0]['diff_media'].values\n"
      ],
      "metadata": {
        "id": "z3tD5zqMEHfc"
      },
      "execution_count": null,
      "outputs": []
    },
    {
      "cell_type": "code",
      "source": [
        "dist_loc.plot.hist(alpha = 0.5, bins = 50 )"
      ],
      "metadata": {
        "colab": {
          "base_uri": "https://localhost:8080/",
          "height": 282
        },
        "id": "jK41TxNjC2H4",
        "outputId": "810defd6-917a-49a8-8680-94f324c62a00"
      },
      "execution_count": null,
      "outputs": [
        {
          "output_type": "execute_result",
          "data": {
            "text/plain": [
              "<matplotlib.axes._subplots.AxesSubplot at 0x7f1426d0ea50>"
            ]
          },
          "metadata": {},
          "execution_count": 169
        },
        {
          "output_type": "display_data",
          "data": {
            "text/plain": [
              "<Figure size 432x288 with 1 Axes>"
            ],
            "image/png": "[encoded data removed]"
          },
          "metadata": {
            "needs_background": "light"
          }
        }
      ]
    },
    {
      "cell_type": "code",
      "source": [
        "dist_loc.plot.hist(cumulative=True, density=1, bins=100, alpha=0.5)"
      ],
      "metadata": {
        "colab": {
          "base_uri": "https://localhost:8080/",
          "height": 282
        },
        "id": "aA03O1AsC7Mn",
        "outputId": "b465d5ea-71af-4336-c535-4d28b08f1489"
      },
      "execution_count": null,
      "outputs": [
        {
          "output_type": "execute_result",
          "data": {
            "text/plain": [
              "<matplotlib.axes._subplots.AxesSubplot at 0x7f1426d0e9d0>"
            ]
          },
          "metadata": {},
          "execution_count": 170
        },
        {
          "output_type": "display_data",
          "data": {
            "text/plain": [
              "<Figure size 432x288 with 1 Axes>"
            ],
            "image/png": "[encoded data removed]"
          },
          "metadata": {
            "needs_background": "light"
          }
        }
      ]
    },
    {
      "cell_type": "code",
      "source": [
        "df_final[df_final['LOG_FG2020'] == 0][['diff_media']].hist(cumulative=True, density=1, bins=100, alpha=0.5)\n",
        "df_final[df_final['LOG_FG2020'] == 1][['diff_media']].hist(cumulative=True, density=1, bins=100, alpha=0.5)"
      ],
      "metadata": {
        "colab": {
          "base_uri": "https://localhost:8080/",
          "height": 580
        },
        "id": "XRs4FdlLp8CF",
        "outputId": "9549fbef-a988-4eca-8ee2-2486f1242f56"
      },
      "execution_count": null,
      "outputs": [
        {
          "output_type": "execute_result",
          "data": {
            "text/plain": [
              "array([[<matplotlib.axes._subplots.AxesSubplot object at 0x7f1435bed190>]],\n",
              "      dtype=object)"
            ]
          },
          "metadata": {},
          "execution_count": 171
        },
        {
          "output_type": "display_data",
          "data": {
            "text/plain": [
              "<Figure size 432x288 with 1 Axes>"
            ],
            "image/png": "[encoded data removed]"
          },
          "metadata": {
            "needs_background": "light"
          }
        },
        {
          "output_type": "display_data",
          "data": {
            "text/plain": [
              "<Figure size 432x288 with 1 Axes>"
            ],
            "image/png": "[encoded data removed]"
          },
          "metadata": {
            "needs_background": "light"
          }
        }
      ]
    },
    {
      "cell_type": "code",
      "source": [
        "#Rodar o teste Kolmogorov-Simirnov pra testar se as distrinuições são diferentes\n",
        "from scipy import stats\n",
        "import matplotlib.pyplot as plt \n",
        "import numpy as np\n",
        "\n",
        "U2020 = np.array(df_final[df_final['LOG_FG2020'] == 1]['diff_media']).cumprod()\n",
        "U2XXX = np.array(df_final[df_final['LOG_FG2020'] == 0]['diff_media']).cumprod()\n",
        "\n",
        "stats.kstest(U2020, U2XXX, alternative = 'less')"
      ],
      "metadata": {
        "id": "L2fsq4_ALu9x",
        "colab": {
          "base_uri": "https://localhost:8080/"
        },
        "outputId": "12f6605f-f497-4041-9363-f50bf905f848"
      },
      "execution_count": null,
      "outputs": [
        {
          "output_type": "execute_result",
          "data": {
            "text/plain": [
              "KstestResult(statistic=0.10675381263616558, pvalue=0.005325805612974558)"
            ]
          },
          "metadata": {},
          "execution_count": 172
        }
      ]
    },
    {
      "cell_type": "code",
      "source": [],
      "metadata": {
        "id": "FHaXT9JoDDkZ"
      },
      "execution_count": null,
      "outputs": []
    },
    {
      "cell_type": "code",
      "source": [
        "#agora com localidadesD\n",
        "U2020 = np.array(df_final_loc[df_final_loc['LOG_FG2020'] == 1]['diff_media']).cumprod()\n",
        "U2XXX = np.array(df_final_loc[df_final_loc['LOG_FG2020'] == 0]['diff_media']).cumprod()\n",
        "\n",
        "stats.kstest(U2020, U2XXX, alternative = 'less')"
      ],
      "metadata": {
        "colab": {
          "base_uri": "https://localhost:8080/"
        },
        "id": "1S2kj7uuDGM-",
        "outputId": "c795b410-73f5-43d3-eb44-9fe3892d417a"
      },
      "execution_count": null,
      "outputs": [
        {
          "output_type": "execute_result",
          "data": {
            "text/plain": [
              "KstestResult(statistic=0.043235704323570434, pvalue=0.06852791284394798)"
            ]
          },
          "metadata": {},
          "execution_count": 173
        }
      ]
    },
    {
      "cell_type": "markdown",
      "source": [],
      "metadata": {
        "id": "GjJ_MKdvTI14"
      }
    },
    {
      "cell_type": "code",
      "source": [],
      "metadata": {
        "id": "VFKV6C6FDCxw"
      },
      "execution_count": null,
      "outputs": []
    },
    {
      "cell_type": "markdown",
      "source": [
        "## Teste de robustez\n",
        "\n",
        "Rodar o Kolmogorv-Smirnov em amostras aleatórias das mesmas zonas.\n",
        "\n"
      ],
      "metadata": {
        "id": "t5yRG3g6Rk37"
      }
    },
    {
      "cell_type": "code",
      "source": [
        "# Calcula numero de secao em cada ID_zona da lista\n",
        "\n",
        "df_to_dict = df_calculo[['ID_ZONA', 'SECAO']].groupby(['ID_ZONA']).count().reset_index()\n",
        "\n",
        "dict_1 = pd.Series(df_to_dict['SECAO'].values,index=df_to_dict['ID_ZONA']).to_dict()\n",
        "\n",
        "\n",
        "\n"
      ],
      "metadata": {
        "id": "q1aQJ1hup3k_"
      },
      "execution_count": null,
      "outputs": []
    },
    {
      "cell_type": "code",
      "source": [
        "from random import randint, seed"
      ],
      "metadata": {
        "id": "xJ_shwd8T2B1"
      },
      "execution_count": null,
      "outputs": []
    },
    {
      "cell_type": "code",
      "source": [
        "# Monta a funcao que gera as amostras\n",
        "def sampler(): #fixar uma seed para publicar depois\n",
        "  sample = np.zeros(len(lista_de_zonas_2))\n",
        "  for i,j,k in zip(dict_1.keys(),range(len(dict_1.keys())), dict_1.values()):\n",
        "    sample[j] = df_calculo[df_calculo['ID_ZONA']==i]['diff_media'].values[randint(1,k-1)]\n",
        "  return sample\n",
        "\n"
      ],
      "metadata": {
        "id": "1Ibkqq_BK36f"
      },
      "execution_count": null,
      "outputs": []
    },
    {
      "cell_type": "code",
      "source": [
        "#Criando as amostras aleatórias de cada zona eleitoral escolhida\n",
        "\n",
        "sample_1 = sampler()\n",
        "sample_2 = sampler()\n",
        "sample_3 = sampler()\n",
        "sample_4 = sampler()"
      ],
      "metadata": {
        "id": "jMpu6D0QT2En"
      },
      "execution_count": null,
      "outputs": []
    },
    {
      "cell_type": "markdown",
      "source": [
        "### Testando KS test\n"
      ],
      "metadata": {
        "id": "PqaawaW_Qm1h"
      }
    },
    {
      "cell_type": "code",
      "source": [
        "stats.kstest(sample_1, sample_2, alternative = 'less')"
      ],
      "metadata": {
        "colab": {
          "base_uri": "https://localhost:8080/"
        },
        "id": "ZX6cOLWFQlyD",
        "outputId": "d5d135c1-3e53-47ac-b8d1-0ba06774ed53"
      },
      "execution_count": null,
      "outputs": [
        {
          "output_type": "execute_result",
          "data": {
            "text/plain": [
              "KstestResult(statistic=0.023965141612200435, pvalue=0.7684692272476434)"
            ]
          },
          "metadata": {},
          "execution_count": 178
        }
      ]
    },
    {
      "cell_type": "code",
      "source": [
        "stats.kstest(sample_1, sample_3, alternative = 'less')"
      ],
      "metadata": {
        "colab": {
          "base_uri": "https://localhost:8080/"
        },
        "id": "DNPUKcFtMM4u",
        "outputId": "a0638074-9e4e-41d6-99b2-fac1060dfb90"
      },
      "execution_count": null,
      "outputs": [
        {
          "output_type": "execute_result",
          "data": {
            "text/plain": [
              "KstestResult(statistic=0.02178649237472767, pvalue=0.8044109951144597)"
            ]
          },
          "metadata": {},
          "execution_count": 179
        }
      ]
    },
    {
      "cell_type": "code",
      "source": [
        "stats.kstest(sample_1, sample_4, alternative = 'less')"
      ],
      "metadata": {
        "colab": {
          "base_uri": "https://localhost:8080/"
        },
        "id": "O7F4lvRVNo0a",
        "outputId": "e3a92ba4-09dd-416b-f047-e7342645af32"
      },
      "execution_count": null,
      "outputs": [
        {
          "output_type": "execute_result",
          "data": {
            "text/plain": [
              "KstestResult(statistic=0.010893246187363835, pvalue=0.9470456175738061)"
            ]
          },
          "metadata": {},
          "execution_count": 180
        }
      ]
    },
    {
      "cell_type": "code",
      "source": [
        "stats.kstest(sample_2, sample_4, alternative = 'less')"
      ],
      "metadata": {
        "colab": {
          "base_uri": "https://localhost:8080/"
        },
        "id": "Lvx8Fir-Q11x",
        "outputId": "87e1661c-9e49-461d-b014-77c432410190"
      },
      "execution_count": null,
      "outputs": [
        {
          "output_type": "execute_result",
          "data": {
            "text/plain": [
              "KstestResult(statistic=0.04357298474945534, pvalue=0.4186223198571778)"
            ]
          },
          "metadata": {},
          "execution_count": 181
        }
      ]
    },
    {
      "cell_type": "code",
      "source": [
        "stats.kstest(sample_3, sample_4, alternative = 'less')"
      ],
      "metadata": {
        "colab": {
          "base_uri": "https://localhost:8080/"
        },
        "id": "hiTuFcVFQ5AO",
        "outputId": "a4cd3377-76d7-457f-aa50-599d02f6025a"
      },
      "execution_count": null,
      "outputs": [
        {
          "output_type": "execute_result",
          "data": {
            "text/plain": [
              "KstestResult(statistic=0.030501089324618737, pvalue=0.6527138536209176)"
            ]
          },
          "metadata": {},
          "execution_count": 182
        }
      ]
    },
    {
      "cell_type": "code",
      "source": [
        "stats.kstest(sample_2, sample_3, alternative = 'less')"
      ],
      "metadata": {
        "colab": {
          "base_uri": "https://localhost:8080/"
        },
        "id": "r6Hr_O4SURhn",
        "outputId": "b23a0f4a-11fd-46a9-dc7d-77b5314fc5e1"
      },
      "execution_count": null,
      "outputs": [
        {
          "output_type": "execute_result",
          "data": {
            "text/plain": [
              "KstestResult(statistic=0.026143790849673203, pvalue=0.7309431291017925)"
            ]
          },
          "metadata": {},
          "execution_count": 183
        }
      ]
    },
    {
      "cell_type": "markdown",
      "source": [],
      "metadata": {
        "id": "9vNf56MlTb_P"
      }
    },
    {
      "cell_type": "code",
      "source": [
        "# Calcula numero de secao em cada LOC da lista\n",
        "\n",
        "df_to_dict = df_calculo_loc[['LOC', 'SECAO']].groupby(['LOC']).count().reset_index()\n",
        "\n",
        "dict_1 = pd.Series(df_to_dict['SECAO'].values,index=df_to_dict['LOC']).to_dict()\n",
        "\n",
        "# Monta a funcao que gera as amostras\n",
        "def sampler(): #fixar uma seed para publicar depois\n",
        "  sample = np.zeros(len(lista_de_loc_2))\n",
        "  for i,j,k in zip(dict_1.keys(),range(len(dict_1.keys())), dict_1.values()):\n",
        "    sample[j] = df_calculo_loc[df_calculo_loc['LOC']==i]['diff_media'].values[randint(1,k-1)]\n",
        "  return sample\n"
      ],
      "metadata": {
        "id": "nJJYzDFYQ_2O"
      },
      "execution_count": null,
      "outputs": []
    },
    {
      "cell_type": "code",
      "source": [
        "\n",
        "sample_1 = sampler()\n",
        "sample_2 = sampler()\n",
        "sample_3 = sampler()\n",
        "sample_4 = sampler()"
      ],
      "metadata": {
        "id": "BAoaEZH0xAOq"
      },
      "execution_count": null,
      "outputs": []
    },
    {
      "cell_type": "code",
      "source": [
        "stats.kstest(sample_1, sample_2, alternative = 'less')"
      ],
      "metadata": {
        "colab": {
          "base_uri": "https://localhost:8080/"
        },
        "id": "dD2AxcQLxCjX",
        "outputId": "43e426ef-088e-426d-b679-6824ec3b783b"
      },
      "execution_count": null,
      "outputs": [
        {
          "output_type": "execute_result",
          "data": {
            "text/plain": [
              "KstestResult(statistic=0.017433751743375175, pvalue=0.6468027376139612)"
            ]
          },
          "metadata": {},
          "execution_count": 192
        }
      ]
    },
    {
      "cell_type": "code",
      "source": [
        "stats.kstest(sample_1, sample_3, alternative = 'less')"
      ],
      "metadata": {
        "colab": {
          "base_uri": "https://localhost:8080/"
        },
        "id": "RWqQfHBGxMyq",
        "outputId": "3e7d4d20-d9d0-46a3-ca02-67a458e590ab"
      },
      "execution_count": null,
      "outputs": [
        {
          "output_type": "execute_result",
          "data": {
            "text/plain": [
              "KstestResult(statistic=0.017433751743375175, pvalue=0.6468027376139612)"
            ]
          },
          "metadata": {},
          "execution_count": 193
        }
      ]
    },
    {
      "cell_type": "code",
      "source": [
        "stats.kstest(sample_4, sample_2, alternative = 'less')"
      ],
      "metadata": {
        "colab": {
          "base_uri": "https://localhost:8080/"
        },
        "id": "J1OAKEI5xN_T",
        "outputId": "b9b458f0-7466-4278-93bf-64041cec3a28"
      },
      "execution_count": null,
      "outputs": [
        {
          "output_type": "execute_result",
          "data": {
            "text/plain": [
              "KstestResult(statistic=0.015341701534170154, pvalue=0.713614053054277)"
            ]
          },
          "metadata": {},
          "execution_count": 194
        }
      ]
    },
    {
      "cell_type": "code",
      "source": [
        "stats.kstest(sample_1, sample_4, alternative = 'less')"
      ],
      "metadata": {
        "colab": {
          "base_uri": "https://localhost:8080/"
        },
        "id": "7LoKG2cIxPdo",
        "outputId": "34bb91e1-ef6c-44c0-a358-90a7a292db59"
      },
      "execution_count": null,
      "outputs": [
        {
          "output_type": "execute_result",
          "data": {
            "text/plain": [
              "KstestResult(statistic=0.01394700139470014, pvalue=0.7566520114367521)"
            ]
          },
          "metadata": {},
          "execution_count": 196
        }
      ]
    },
    {
      "cell_type": "code",
      "source": [],
      "metadata": {
        "id": "rSquQ7agxRUb"
      },
      "execution_count": null,
      "outputs": []
    }
  ]
}