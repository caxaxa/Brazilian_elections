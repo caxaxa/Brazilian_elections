{
  "nbformat": 4,
  "nbformat_minor": 0,
  "metadata": {
    "colab": {
      "provenance": [],
      "collapsed_sections": [],
      "authorship_tag": "ABX9TyP6yELXVFgh2iYIWWLa25dx",
      "include_colab_link": true
    },
    "kernelspec": {
      "name": "python3",
      "display_name": "Python 3"
    },
    "language_info": {
      "name": "python"
    }
  },
  "cells": [
    {
      "cell_type": "markdown",
      "metadata": {
        "id": "view-in-github",
        "colab_type": "text"
      },
      "source": [
        "<a href=\"https://colab.research.google.com/github/caxaxa/Brazilian_elections/blob/main/teste_urna_1.ipynb\" target=\"_parent\"><img src=\"https://colab.research.google.com/assets/colab-badge.svg\" alt=\"Open In Colab\"/></a>"
      ]
    },
    {
      "cell_type": "markdown",
      "source": [
        "## Testando Diferença Entre Urnas de 2020 e demais"
      ],
      "metadata": {
        "id": "bxbHGG7ef0lb"
      }
    },
    {
      "cell_type": "code",
      "source": [
        "#importando as Packages\n",
        "import pandas as pd\n",
        "\n"
      ],
      "metadata": {
        "id": "ALq14jCjf8lg"
      },
      "execution_count": 1,
      "outputs": []
    },
    {
      "cell_type": "code",
      "source": [
        "# #Carregando dado\n",
        "df = pd.read_excel('https://brazilwasstolen.com/wp-content/uploads/2022/11/VOTOS_T1E2.xlsx', header = 1 )\n",
        "\n",
        "# Baixa a planilha contendo as localizacoes\n",
        "#Disponível no repositório\n",
        "\n",
        "df_loc = pd.read_csv('/content/chacha.csv', sep = ';', encoding = 'Latin-1')"
      ],
      "metadata": {
        "id": "G7IQXeSWgElr"
      },
      "execution_count": 2,
      "outputs": []
    },
    {
      "cell_type": "code",
      "source": [
        "# !mkdir CSVs"
      ],
      "metadata": {
        "id": "QYWwh2PRsDFo"
      },
      "execution_count": 3,
      "outputs": []
    },
    {
      "cell_type": "code",
      "source": [
        "# # Baixar os csv da base de dados do TSE\n",
        "\n",
        "# import os\n",
        "# import requests, zipfile, io\n",
        "\n",
        "# UFs = ['AC', 'AL', 'AM', 'AP', 'BA', 'CE', 'DF', 'ES', 'GO', 'MA', 'MS', 'MT', 'PA', 'PB', 'PE', 'PI', 'PR', 'RJ', 'RN', 'RO', 'RR', 'RS', 'SC', 'SE', 'SP', 'TO', 'ZZ']\n",
        "# # Para cada mês há dois *.zip. Os urls usam a mesma base:\n",
        "# url_base =['https://cdn.tse.jus.br/estatistica/sead/eleicoes/eleicoes2022/buweb/bweb_1t_{}_051020221321.zip', 'https://cdn.tse.jus.br/estatistica/sead/eleicoes/eleicoes2022/buweb/bweb_2t_{}_311020221535.zip' ]\n",
        "\n",
        "# def csv_downloader():\n",
        "#   for i in UFs:\n",
        "#     for j in url_base:\n",
        "#       r = requests.get(j.format(i))\n",
        "#       z = zipfile.ZipFile(io.BytesIO(r.content))\n",
        "#       z.extractall(\"/content/CSVs\")\n",
        "#       print('O Estado {} deu certo'.format(i))\n",
        "\n"
      ],
      "metadata": {
        "id": "IYg3avrBivAl"
      },
      "execution_count": 4,
      "outputs": []
    },
    {
      "cell_type": "code",
      "source": [
        "# #Baixa e extrai os CSVs\n",
        "# csv_downloader()"
      ],
      "metadata": {
        "id": "HAOc2_UJtkSy"
      },
      "execution_count": 5,
      "outputs": []
    },
    {
      "cell_type": "code",
      "source": [
        "\n"
      ],
      "metadata": {
        "id": "v4Gk6aCO45ay"
      },
      "execution_count": 9,
      "outputs": []
    },
    {
      "cell_type": "code",
      "source": [],
      "metadata": {
        "id": "3qZtZcVKivKj"
      },
      "execution_count": 19,
      "outputs": []
    },
    {
      "cell_type": "code",
      "source": [
        "#cria o campo chave para criar as localizacoes\n",
        "\n",
        "df_loc['LOC_KEY'] = df_loc['CD_MUNICIPIO'].astype('str') + '_' + df_loc['NR_ZONA'].astype('str') + '_' + df_loc['NR_SECAO'].astype('str')"
      ],
      "metadata": {
        "id": "Fgye6Z4q6gBU"
      },
      "execution_count": 31,
      "outputs": []
    },
    {
      "cell_type": "code",
      "source": [],
      "metadata": {
        "id": "lMCkPHeA8FS7"
      },
      "execution_count": 35,
      "outputs": []
    },
    {
      "cell_type": "code",
      "source": [
        "#Criando uma variável para cada zona eleitoral (mudar para cada local de voto)\n",
        "# Cria o campo chave para colocar a localizacao\n",
        "df[['ESTADO','ID_1','ZONA','SECAO']] = df['ID_SECAO'].str.split('_', expand = True, n=0)\n",
        "df['ID_ZONA'] = df['ID_1'] + '_' +  df['ZONA']\n",
        "df['LOC_KEY'] = df['ID_ZONA'] + '_' +  df['SECAO']"
      ],
      "metadata": {
        "id": "X9ry-DtShTMV"
      },
      "execution_count": 23,
      "outputs": []
    },
    {
      "cell_type": "code",
      "source": [
        "# Cria o campo com as localizacoes usando pandas.merge() para fazer o mapping\n",
        "\n",
        "df['LOC'] = pd.merge(df_loc, df, how ='inner', on ='LOC_KEY')['NM_LOCAL_VOTACAO']\n",
        "\n",
        "\n"
      ],
      "metadata": {
        "id": "yOT2RHUF7ITq"
      },
      "execution_count": 36,
      "outputs": []
    },
    {
      "cell_type": "code",
      "source": [
        "df['LOC']"
      ],
      "metadata": {
        "colab": {
          "base_uri": "https://localhost:8080/"
        },
        "id": "kk15ZZFv-pqB",
        "outputId": "f7d50fae-dcca-4e2c-addd-0f30304a3eb1"
      },
      "execution_count": 37,
      "outputs": [
        {
          "output_type": "execute_result",
          "data": {
            "text/plain": [
              "0         TIRADENTES CTPM UNIDADE X - ESCOLA ESTADUAL\n",
              "1         TIRADENTES CTPM UNIDADE X - ESCOLA ESTADUAL\n",
              "2         TIRADENTES CTPM UNIDADE X - ESCOLA ESTADUAL\n",
              "3         TIRADENTES CTPM UNIDADE X - ESCOLA ESTADUAL\n",
              "4         TIRADENTES CTPM UNIDADE X - ESCOLA ESTADUAL\n",
              "                             ...                     \n",
              "472022                                            NaN\n",
              "472023                                            NaN\n",
              "472024                                            NaN\n",
              "472025                                            NaN\n",
              "472026                                            NaN\n",
              "Name: LOC, Length: 472027, dtype: object"
            ]
          },
          "metadata": {},
          "execution_count": 37
        }
      ]
    },
    {
      "cell_type": "code",
      "source": [
        "df[['ID_SECAO', 'NR_ZONA', 'SECAO','LOC']] # Novos dados, fazer um MAP de CD_MUN, NR_ZONA_SECAO"
      ],
      "metadata": {
        "id": "8pyhw_a0HeYC",
        "colab": {
          "base_uri": "https://localhost:8080/",
          "height": 206
        },
        "outputId": "04d0c14c-4986-4087-a36f-3af24bb54592"
      },
      "execution_count": 43,
      "outputs": [
        {
          "output_type": "execute_result",
          "data": {
            "text/plain": [
              "               ID_SECAO  NR_ZONA SECAO  LOC\n",
              "472022  ZZ_99180_1_1228        1  1228  NaN\n",
              "472023  ZZ_99287_1_1259        1  1259  NaN\n",
              "472024  ZZ_99317_1_1282        1  1282  NaN\n",
              "472025   ZZ_99430_1_145        1   145  NaN\n",
              "472026  ZZ_99473_1_1327        1  1327  NaN"
            ],
            "text/html": [
              "\n",
              "  <div id=\"df-c941ecb5-caad-4f45-9550-d32ef91df4a0\">\n",
              "    <div class=\"colab-df-container\">\n",
              "      <div>\n",
              "<style scoped>\n",
              "    .dataframe tbody tr th:only-of-type {\n",
              "        vertical-align: middle;\n",
              "    }\n",
              "\n",
              "    .dataframe tbody tr th {\n",
              "        vertical-align: top;\n",
              "    }\n",
              "\n",
              "    .dataframe thead th {\n",
              "        text-align: right;\n",
              "    }\n",
              "</style>\n",
              "<table border=\"1\" class=\"dataframe\">\n",
              "  <thead>\n",
              "    <tr style=\"text-align: right;\">\n",
              "      <th></th>\n",
              "      <th>ID_SECAO</th>\n",
              "      <th>NR_ZONA</th>\n",
              "      <th>SECAO</th>\n",
              "      <th>LOC</th>\n",
              "    </tr>\n",
              "  </thead>\n",
              "  <tbody>\n",
              "    <tr>\n",
              "      <th>472022</th>\n",
              "      <td>ZZ_99180_1_1228</td>\n",
              "      <td>1</td>\n",
              "      <td>1228</td>\n",
              "      <td>NaN</td>\n",
              "    </tr>\n",
              "    <tr>\n",
              "      <th>472023</th>\n",
              "      <td>ZZ_99287_1_1259</td>\n",
              "      <td>1</td>\n",
              "      <td>1259</td>\n",
              "      <td>NaN</td>\n",
              "    </tr>\n",
              "    <tr>\n",
              "      <th>472024</th>\n",
              "      <td>ZZ_99317_1_1282</td>\n",
              "      <td>1</td>\n",
              "      <td>1282</td>\n",
              "      <td>NaN</td>\n",
              "    </tr>\n",
              "    <tr>\n",
              "      <th>472025</th>\n",
              "      <td>ZZ_99430_1_145</td>\n",
              "      <td>1</td>\n",
              "      <td>145</td>\n",
              "      <td>NaN</td>\n",
              "    </tr>\n",
              "    <tr>\n",
              "      <th>472026</th>\n",
              "      <td>ZZ_99473_1_1327</td>\n",
              "      <td>1</td>\n",
              "      <td>1327</td>\n",
              "      <td>NaN</td>\n",
              "    </tr>\n",
              "  </tbody>\n",
              "</table>\n",
              "</div>\n",
              "      <button class=\"colab-df-convert\" onclick=\"convertToInteractive('df-c941ecb5-caad-4f45-9550-d32ef91df4a0')\"\n",
              "              title=\"Convert this dataframe to an interactive table.\"\n",
              "              style=\"display:none;\">\n",
              "        \n",
              "  <svg xmlns=\"http://www.w3.org/2000/svg\" height=\"24px\"viewBox=\"0 0 24 24\"\n",
              "       width=\"24px\">\n",
              "    <path d=\"M0 0h24v24H0V0z\" fill=\"none\"/>\n",
              "    <path d=\"M18.56 5.44l.94 2.06.94-2.06 2.06-.94-2.06-.94-.94-2.06-.94 2.06-2.06.94zm-11 1L8.5 8.5l.94-2.06 2.06-.94-2.06-.94L8.5 2.5l-.94 2.06-2.06.94zm10 10l.94 2.06.94-2.06 2.06-.94-2.06-.94-.94-2.06-.94 2.06-2.06.94z\"/><path d=\"M17.41 7.96l-1.37-1.37c-.4-.4-.92-.59-1.43-.59-.52 0-1.04.2-1.43.59L10.3 9.45l-7.72 7.72c-.78.78-.78 2.05 0 2.83L4 21.41c.39.39.9.59 1.41.59.51 0 1.02-.2 1.41-.59l7.78-7.78 2.81-2.81c.8-.78.8-2.07 0-2.86zM5.41 20L4 18.59l7.72-7.72 1.47 1.35L5.41 20z\"/>\n",
              "  </svg>\n",
              "      </button>\n",
              "      \n",
              "  <style>\n",
              "    .colab-df-container {\n",
              "      display:flex;\n",
              "      flex-wrap:wrap;\n",
              "      gap: 12px;\n",
              "    }\n",
              "\n",
              "    .colab-df-convert {\n",
              "      background-color: #E8F0FE;\n",
              "      border: none;\n",
              "      border-radius: 50%;\n",
              "      cursor: pointer;\n",
              "      display: none;\n",
              "      fill: #1967D2;\n",
              "      height: 32px;\n",
              "      padding: 0 0 0 0;\n",
              "      width: 32px;\n",
              "    }\n",
              "\n",
              "    .colab-df-convert:hover {\n",
              "      background-color: #E2EBFA;\n",
              "      box-shadow: 0px 1px 2px rgba(60, 64, 67, 0.3), 0px 1px 3px 1px rgba(60, 64, 67, 0.15);\n",
              "      fill: #174EA6;\n",
              "    }\n",
              "\n",
              "    [theme=dark] .colab-df-convert {\n",
              "      background-color: #3B4455;\n",
              "      fill: #D2E3FC;\n",
              "    }\n",
              "\n",
              "    [theme=dark] .colab-df-convert:hover {\n",
              "      background-color: #434B5C;\n",
              "      box-shadow: 0px 1px 3px 1px rgba(0, 0, 0, 0.15);\n",
              "      filter: drop-shadow(0px 1px 2px rgba(0, 0, 0, 0.3));\n",
              "      fill: #FFFFFF;\n",
              "    }\n",
              "  </style>\n",
              "\n",
              "      <script>\n",
              "        const buttonEl =\n",
              "          document.querySelector('#df-c941ecb5-caad-4f45-9550-d32ef91df4a0 button.colab-df-convert');\n",
              "        buttonEl.style.display =\n",
              "          google.colab.kernel.accessAllowed ? 'block' : 'none';\n",
              "\n",
              "        async function convertToInteractive(key) {\n",
              "          const element = document.querySelector('#df-c941ecb5-caad-4f45-9550-d32ef91df4a0');\n",
              "          const dataTable =\n",
              "            await google.colab.kernel.invokeFunction('convertToInteractive',\n",
              "                                                     [key], {});\n",
              "          if (!dataTable) return;\n",
              "\n",
              "          const docLinkHtml = 'Like what you see? Visit the ' +\n",
              "            '<a target=\"_blank\" href=https://colab.research.google.com/notebooks/data_table.ipynb>data table notebook</a>'\n",
              "            + ' to learn more about interactive tables.';\n",
              "          element.innerHTML = '';\n",
              "          dataTable['output_type'] = 'display_data';\n",
              "          await google.colab.output.renderOutput(dataTable, element);\n",
              "          const docLink = document.createElement('div');\n",
              "          docLink.innerHTML = docLinkHtml;\n",
              "          element.appendChild(docLink);\n",
              "        }\n",
              "      </script>\n",
              "    </div>\n",
              "  </div>\n",
              "  "
            ]
          },
          "metadata": {},
          "execution_count": 43
        }
      ]
    },
    {
      "cell_type": "code",
      "source": [
        "n_zonas = len(df['ID_ZONA'].unique())\n",
        "print('Há {} zonas diferentes no Brasil'.format(str(n_zonas)))"
      ],
      "metadata": {
        "colab": {
          "base_uri": "https://localhost:8080/"
        },
        "id": "LcLQ-qpLjOs8",
        "outputId": "d559d0a2-0e2b-420b-c1d0-4f31fb922ee3"
      },
      "execution_count": 45,
      "outputs": [
        {
          "output_type": "stream",
          "name": "stdout",
          "text": [
            "Há 6241 zonas diferentes no Brasil\n"
          ]
        }
      ]
    },
    {
      "cell_type": "code",
      "source": [
        "n_loc = len(df['LOC'].unique())\n",
        "print('Há {} localidades diferentes no Brasil'.format(str(n_loc)))"
      ],
      "metadata": {
        "colab": {
          "base_uri": "https://localhost:8080/"
        },
        "id": "ssxL8QJ3_MgR",
        "outputId": "2a12966f-3da8-41f0-d988-9941f029f402"
      },
      "execution_count": 46,
      "outputs": [
        {
          "output_type": "stream",
          "name": "stdout",
          "text": [
            "Há 85085 localidades diferentes no Brasil\n"
          ]
        }
      ]
    },
    {
      "cell_type": "code",
      "source": [
        "#tirando as colunas sem informacao do modelo de urna ()\n",
        "df = df[df['LOG_MODELO']!= '-']\n"
      ],
      "metadata": {
        "id": "28uMX-ECjQl6"
      },
      "execution_count": 47,
      "outputs": []
    },
    {
      "cell_type": "code",
      "source": [
        "#Estudando um exemplo\n",
        "df[(df['NM_MUNICIPIO']== 'CAMPO GRANDE') & (df['UF']== 'MS') & (df['ZONA']== '8')]"
      ],
      "metadata": {
        "colab": {
          "base_uri": "https://localhost:8080/",
          "height": 468
        },
        "id": "Psx5d2ZxnRpx",
        "outputId": "f7356668-1708-4a58-fbd8-8d89a243b4b4"
      },
      "execution_count": 48,
      "outputs": [
        {
          "output_type": "execute_result",
          "data": {
            "text/plain": [
              "              ID_SECAO ID_MUNICIPIO REGIAO  UF  CD_MUNICIPIO  NM_MUNICIPIO  \\\n",
              "173088   MS_90514_8_10     MS_90514      C  MS         90514  CAMPO GRANDE   \n",
              "173089   MS_90514_8_11     MS_90514      C  MS         90514  CAMPO GRANDE   \n",
              "173090   MS_90514_8_12     MS_90514      C  MS         90514  CAMPO GRANDE   \n",
              "173091   MS_90514_8_60     MS_90514      C  MS         90514  CAMPO GRANDE   \n",
              "173092   MS_90514_8_61     MS_90514      C  MS         90514  CAMPO GRANDE   \n",
              "...                ...          ...    ...  ..           ...           ...   \n",
              "173491  MS_90514_8_647     MS_90514      C  MS         90514  CAMPO GRANDE   \n",
              "173492  MS_90514_8_648     MS_90514      C  MS         90514  CAMPO GRANDE   \n",
              "173493  MS_90514_8_649     MS_90514      C  MS         90514  CAMPO GRANDE   \n",
              "173494  MS_90514_8_651     MS_90514      C  MS         90514  CAMPO GRANDE   \n",
              "173495  MS_90514_8_652     MS_90514      C  MS         90514  CAMPO GRANDE   \n",
              "\n",
              "       MUNICIPIO_GEO FX_APTOS_MUNICIPIO  CODMUN_IBGE  FG_CAPITAL  ...  \\\n",
              "173088  CAMPO GRANDE          2 500K-1M       500270           1  ...   \n",
              "173089  CAMPO GRANDE          2 500K-1M       500270           1  ...   \n",
              "173090  CAMPO GRANDE          2 500K-1M       500270           1  ...   \n",
              "173091  CAMPO GRANDE          2 500K-1M       500270           1  ...   \n",
              "173092  CAMPO GRANDE          2 500K-1M       500270           1  ...   \n",
              "...              ...                ...          ...         ...  ...   \n",
              "173491  CAMPO GRANDE          2 500K-1M       500270           1  ...   \n",
              "173492  CAMPO GRANDE          2 500K-1M       500270           1  ...   \n",
              "173493  CAMPO GRANDE          2 500K-1M       500270           1  ...   \n",
              "173494  CAMPO GRANDE          2 500K-1M       500270           1  ...   \n",
              "173495  CAMPO GRANDE          2 500K-1M       500270           1  ...   \n",
              "\n",
              "        T2QTVAL  T2QT13  T2QT22  ESTADO   ID_1  ZONA  SECAO  ID_ZONA  \\\n",
              "173088      234      70     164      MS  90514     8     10  90514_8   \n",
              "173089      157      30     127      MS  90514     8     11  90514_8   \n",
              "173090      262      66     196      MS  90514     8     12  90514_8   \n",
              "173091      220      44     176      MS  90514     8     60  90514_8   \n",
              "173092      219      55     164      MS  90514     8     61  90514_8   \n",
              "...         ...     ...     ...     ...    ...   ...    ...      ...   \n",
              "173491      247     111     136      MS  90514     8    647  90514_8   \n",
              "173492      255     100     155      MS  90514     8    648  90514_8   \n",
              "173493      108      51      57      MS  90514     8    649  90514_8   \n",
              "173494       51      18      33      MS  90514     8    651  90514_8   \n",
              "173495       85      29      56      MS  90514     8    652  90514_8   \n",
              "\n",
              "            LOC_KEY                                                LOC  \n",
              "173088   90514_8_10                 ESCOLA ESTADUAL CORONEL JUCA PINTO  \n",
              "173089   90514_8_11                 ESCOLA ESTADUAL CORONEL JUCA PINTO  \n",
              "173090   90514_8_12                 ESCOLA ESTADUAL CORONEL JUCA PINTO  \n",
              "173091   90514_8_60                 ESCOLA ESTADUAL CORONEL JUCA PINTO  \n",
              "173092   90514_8_61                 ESCOLA ESTADUAL CORONEL JUCA PINTO  \n",
              "...             ...                                                ...  \n",
              "173491  90514_8_647  ESCOLA ESTADUAL MINISTRO ALFREDO DE VILHENA VA...  \n",
              "173492  90514_8_648  ESCOLA ESTADUAL MINISTRO ALFREDO DE VILHENA VA...  \n",
              "173493  90514_8_649  ESCOLA ESTADUAL MINISTRO ALFREDO DE VILHENA VA...  \n",
              "173494  90514_8_651                 ESCOLA MUNICIPAL PROF. MILTON LAGE  \n",
              "173495  90514_8_652                 ESCOLA MUNICIPAL PROF. MILTON LAGE  \n",
              "\n",
              "[403 rows x 38 columns]"
            ],
            "text/html": [
              "\n",
              "  <div id=\"df-c12553c5-e45e-44f2-87dc-3b28d04ef68b\">\n",
              "    <div class=\"colab-df-container\">\n",
              "      <div>\n",
              "<style scoped>\n",
              "    .dataframe tbody tr th:only-of-type {\n",
              "        vertical-align: middle;\n",
              "    }\n",
              "\n",
              "    .dataframe tbody tr th {\n",
              "        vertical-align: top;\n",
              "    }\n",
              "\n",
              "    .dataframe thead th {\n",
              "        text-align: right;\n",
              "    }\n",
              "</style>\n",
              "<table border=\"1\" class=\"dataframe\">\n",
              "  <thead>\n",
              "    <tr style=\"text-align: right;\">\n",
              "      <th></th>\n",
              "      <th>ID_SECAO</th>\n",
              "      <th>ID_MUNICIPIO</th>\n",
              "      <th>REGIAO</th>\n",
              "      <th>UF</th>\n",
              "      <th>CD_MUNICIPIO</th>\n",
              "      <th>NM_MUNICIPIO</th>\n",
              "      <th>MUNICIPIO_GEO</th>\n",
              "      <th>FX_APTOS_MUNICIPIO</th>\n",
              "      <th>CODMUN_IBGE</th>\n",
              "      <th>FG_CAPITAL</th>\n",
              "      <th>...</th>\n",
              "      <th>T2QTVAL</th>\n",
              "      <th>T2QT13</th>\n",
              "      <th>T2QT22</th>\n",
              "      <th>ESTADO</th>\n",
              "      <th>ID_1</th>\n",
              "      <th>ZONA</th>\n",
              "      <th>SECAO</th>\n",
              "      <th>ID_ZONA</th>\n",
              "      <th>LOC_KEY</th>\n",
              "      <th>LOC</th>\n",
              "    </tr>\n",
              "  </thead>\n",
              "  <tbody>\n",
              "    <tr>\n",
              "      <th>173088</th>\n",
              "      <td>MS_90514_8_10</td>\n",
              "      <td>MS_90514</td>\n",
              "      <td>C</td>\n",
              "      <td>MS</td>\n",
              "      <td>90514</td>\n",
              "      <td>CAMPO GRANDE</td>\n",
              "      <td>CAMPO GRANDE</td>\n",
              "      <td>2 500K-1M</td>\n",
              "      <td>500270</td>\n",
              "      <td>1</td>\n",
              "      <td>...</td>\n",
              "      <td>234</td>\n",
              "      <td>70</td>\n",
              "      <td>164</td>\n",
              "      <td>MS</td>\n",
              "      <td>90514</td>\n",
              "      <td>8</td>\n",
              "      <td>10</td>\n",
              "      <td>90514_8</td>\n",
              "      <td>90514_8_10</td>\n",
              "      <td>ESCOLA ESTADUAL CORONEL JUCA PINTO</td>\n",
              "    </tr>\n",
              "    <tr>\n",
              "      <th>173089</th>\n",
              "      <td>MS_90514_8_11</td>\n",
              "      <td>MS_90514</td>\n",
              "      <td>C</td>\n",
              "      <td>MS</td>\n",
              "      <td>90514</td>\n",
              "      <td>CAMPO GRANDE</td>\n",
              "      <td>CAMPO GRANDE</td>\n",
              "      <td>2 500K-1M</td>\n",
              "      <td>500270</td>\n",
              "      <td>1</td>\n",
              "      <td>...</td>\n",
              "      <td>157</td>\n",
              "      <td>30</td>\n",
              "      <td>127</td>\n",
              "      <td>MS</td>\n",
              "      <td>90514</td>\n",
              "      <td>8</td>\n",
              "      <td>11</td>\n",
              "      <td>90514_8</td>\n",
              "      <td>90514_8_11</td>\n",
              "      <td>ESCOLA ESTADUAL CORONEL JUCA PINTO</td>\n",
              "    </tr>\n",
              "    <tr>\n",
              "      <th>173090</th>\n",
              "      <td>MS_90514_8_12</td>\n",
              "      <td>MS_90514</td>\n",
              "      <td>C</td>\n",
              "      <td>MS</td>\n",
              "      <td>90514</td>\n",
              "      <td>CAMPO GRANDE</td>\n",
              "      <td>CAMPO GRANDE</td>\n",
              "      <td>2 500K-1M</td>\n",
              "      <td>500270</td>\n",
              "      <td>1</td>\n",
              "      <td>...</td>\n",
              "      <td>262</td>\n",
              "      <td>66</td>\n",
              "      <td>196</td>\n",
              "      <td>MS</td>\n",
              "      <td>90514</td>\n",
              "      <td>8</td>\n",
              "      <td>12</td>\n",
              "      <td>90514_8</td>\n",
              "      <td>90514_8_12</td>\n",
              "      <td>ESCOLA ESTADUAL CORONEL JUCA PINTO</td>\n",
              "    </tr>\n",
              "    <tr>\n",
              "      <th>173091</th>\n",
              "      <td>MS_90514_8_60</td>\n",
              "      <td>MS_90514</td>\n",
              "      <td>C</td>\n",
              "      <td>MS</td>\n",
              "      <td>90514</td>\n",
              "      <td>CAMPO GRANDE</td>\n",
              "      <td>CAMPO GRANDE</td>\n",
              "      <td>2 500K-1M</td>\n",
              "      <td>500270</td>\n",
              "      <td>1</td>\n",
              "      <td>...</td>\n",
              "      <td>220</td>\n",
              "      <td>44</td>\n",
              "      <td>176</td>\n",
              "      <td>MS</td>\n",
              "      <td>90514</td>\n",
              "      <td>8</td>\n",
              "      <td>60</td>\n",
              "      <td>90514_8</td>\n",
              "      <td>90514_8_60</td>\n",
              "      <td>ESCOLA ESTADUAL CORONEL JUCA PINTO</td>\n",
              "    </tr>\n",
              "    <tr>\n",
              "      <th>173092</th>\n",
              "      <td>MS_90514_8_61</td>\n",
              "      <td>MS_90514</td>\n",
              "      <td>C</td>\n",
              "      <td>MS</td>\n",
              "      <td>90514</td>\n",
              "      <td>CAMPO GRANDE</td>\n",
              "      <td>CAMPO GRANDE</td>\n",
              "      <td>2 500K-1M</td>\n",
              "      <td>500270</td>\n",
              "      <td>1</td>\n",
              "      <td>...</td>\n",
              "      <td>219</td>\n",
              "      <td>55</td>\n",
              "      <td>164</td>\n",
              "      <td>MS</td>\n",
              "      <td>90514</td>\n",
              "      <td>8</td>\n",
              "      <td>61</td>\n",
              "      <td>90514_8</td>\n",
              "      <td>90514_8_61</td>\n",
              "      <td>ESCOLA ESTADUAL CORONEL JUCA PINTO</td>\n",
              "    </tr>\n",
              "    <tr>\n",
              "      <th>...</th>\n",
              "      <td>...</td>\n",
              "      <td>...</td>\n",
              "      <td>...</td>\n",
              "      <td>...</td>\n",
              "      <td>...</td>\n",
              "      <td>...</td>\n",
              "      <td>...</td>\n",
              "      <td>...</td>\n",
              "      <td>...</td>\n",
              "      <td>...</td>\n",
              "      <td>...</td>\n",
              "      <td>...</td>\n",
              "      <td>...</td>\n",
              "      <td>...</td>\n",
              "      <td>...</td>\n",
              "      <td>...</td>\n",
              "      <td>...</td>\n",
              "      <td>...</td>\n",
              "      <td>...</td>\n",
              "      <td>...</td>\n",
              "      <td>...</td>\n",
              "    </tr>\n",
              "    <tr>\n",
              "      <th>173491</th>\n",
              "      <td>MS_90514_8_647</td>\n",
              "      <td>MS_90514</td>\n",
              "      <td>C</td>\n",
              "      <td>MS</td>\n",
              "      <td>90514</td>\n",
              "      <td>CAMPO GRANDE</td>\n",
              "      <td>CAMPO GRANDE</td>\n",
              "      <td>2 500K-1M</td>\n",
              "      <td>500270</td>\n",
              "      <td>1</td>\n",
              "      <td>...</td>\n",
              "      <td>247</td>\n",
              "      <td>111</td>\n",
              "      <td>136</td>\n",
              "      <td>MS</td>\n",
              "      <td>90514</td>\n",
              "      <td>8</td>\n",
              "      <td>647</td>\n",
              "      <td>90514_8</td>\n",
              "      <td>90514_8_647</td>\n",
              "      <td>ESCOLA ESTADUAL MINISTRO ALFREDO DE VILHENA VA...</td>\n",
              "    </tr>\n",
              "    <tr>\n",
              "      <th>173492</th>\n",
              "      <td>MS_90514_8_648</td>\n",
              "      <td>MS_90514</td>\n",
              "      <td>C</td>\n",
              "      <td>MS</td>\n",
              "      <td>90514</td>\n",
              "      <td>CAMPO GRANDE</td>\n",
              "      <td>CAMPO GRANDE</td>\n",
              "      <td>2 500K-1M</td>\n",
              "      <td>500270</td>\n",
              "      <td>1</td>\n",
              "      <td>...</td>\n",
              "      <td>255</td>\n",
              "      <td>100</td>\n",
              "      <td>155</td>\n",
              "      <td>MS</td>\n",
              "      <td>90514</td>\n",
              "      <td>8</td>\n",
              "      <td>648</td>\n",
              "      <td>90514_8</td>\n",
              "      <td>90514_8_648</td>\n",
              "      <td>ESCOLA ESTADUAL MINISTRO ALFREDO DE VILHENA VA...</td>\n",
              "    </tr>\n",
              "    <tr>\n",
              "      <th>173493</th>\n",
              "      <td>MS_90514_8_649</td>\n",
              "      <td>MS_90514</td>\n",
              "      <td>C</td>\n",
              "      <td>MS</td>\n",
              "      <td>90514</td>\n",
              "      <td>CAMPO GRANDE</td>\n",
              "      <td>CAMPO GRANDE</td>\n",
              "      <td>2 500K-1M</td>\n",
              "      <td>500270</td>\n",
              "      <td>1</td>\n",
              "      <td>...</td>\n",
              "      <td>108</td>\n",
              "      <td>51</td>\n",
              "      <td>57</td>\n",
              "      <td>MS</td>\n",
              "      <td>90514</td>\n",
              "      <td>8</td>\n",
              "      <td>649</td>\n",
              "      <td>90514_8</td>\n",
              "      <td>90514_8_649</td>\n",
              "      <td>ESCOLA ESTADUAL MINISTRO ALFREDO DE VILHENA VA...</td>\n",
              "    </tr>\n",
              "    <tr>\n",
              "      <th>173494</th>\n",
              "      <td>MS_90514_8_651</td>\n",
              "      <td>MS_90514</td>\n",
              "      <td>C</td>\n",
              "      <td>MS</td>\n",
              "      <td>90514</td>\n",
              "      <td>CAMPO GRANDE</td>\n",
              "      <td>CAMPO GRANDE</td>\n",
              "      <td>2 500K-1M</td>\n",
              "      <td>500270</td>\n",
              "      <td>1</td>\n",
              "      <td>...</td>\n",
              "      <td>51</td>\n",
              "      <td>18</td>\n",
              "      <td>33</td>\n",
              "      <td>MS</td>\n",
              "      <td>90514</td>\n",
              "      <td>8</td>\n",
              "      <td>651</td>\n",
              "      <td>90514_8</td>\n",
              "      <td>90514_8_651</td>\n",
              "      <td>ESCOLA MUNICIPAL PROF. MILTON LAGE</td>\n",
              "    </tr>\n",
              "    <tr>\n",
              "      <th>173495</th>\n",
              "      <td>MS_90514_8_652</td>\n",
              "      <td>MS_90514</td>\n",
              "      <td>C</td>\n",
              "      <td>MS</td>\n",
              "      <td>90514</td>\n",
              "      <td>CAMPO GRANDE</td>\n",
              "      <td>CAMPO GRANDE</td>\n",
              "      <td>2 500K-1M</td>\n",
              "      <td>500270</td>\n",
              "      <td>1</td>\n",
              "      <td>...</td>\n",
              "      <td>85</td>\n",
              "      <td>29</td>\n",
              "      <td>56</td>\n",
              "      <td>MS</td>\n",
              "      <td>90514</td>\n",
              "      <td>8</td>\n",
              "      <td>652</td>\n",
              "      <td>90514_8</td>\n",
              "      <td>90514_8_652</td>\n",
              "      <td>ESCOLA MUNICIPAL PROF. MILTON LAGE</td>\n",
              "    </tr>\n",
              "  </tbody>\n",
              "</table>\n",
              "<p>403 rows × 38 columns</p>\n",
              "</div>\n",
              "      <button class=\"colab-df-convert\" onclick=\"convertToInteractive('df-c12553c5-e45e-44f2-87dc-3b28d04ef68b')\"\n",
              "              title=\"Convert this dataframe to an interactive table.\"\n",
              "              style=\"display:none;\">\n",
              "        \n",
              "  <svg xmlns=\"http://www.w3.org/2000/svg\" height=\"24px\"viewBox=\"0 0 24 24\"\n",
              "       width=\"24px\">\n",
              "    <path d=\"M0 0h24v24H0V0z\" fill=\"none\"/>\n",
              "    <path d=\"M18.56 5.44l.94 2.06.94-2.06 2.06-.94-2.06-.94-.94-2.06-.94 2.06-2.06.94zm-11 1L8.5 8.5l.94-2.06 2.06-.94-2.06-.94L8.5 2.5l-.94 2.06-2.06.94zm10 10l.94 2.06.94-2.06 2.06-.94-2.06-.94-.94-2.06-.94 2.06-2.06.94z\"/><path d=\"M17.41 7.96l-1.37-1.37c-.4-.4-.92-.59-1.43-.59-.52 0-1.04.2-1.43.59L10.3 9.45l-7.72 7.72c-.78.78-.78 2.05 0 2.83L4 21.41c.39.39.9.59 1.41.59.51 0 1.02-.2 1.41-.59l7.78-7.78 2.81-2.81c.8-.78.8-2.07 0-2.86zM5.41 20L4 18.59l7.72-7.72 1.47 1.35L5.41 20z\"/>\n",
              "  </svg>\n",
              "      </button>\n",
              "      \n",
              "  <style>\n",
              "    .colab-df-container {\n",
              "      display:flex;\n",
              "      flex-wrap:wrap;\n",
              "      gap: 12px;\n",
              "    }\n",
              "\n",
              "    .colab-df-convert {\n",
              "      background-color: #E8F0FE;\n",
              "      border: none;\n",
              "      border-radius: 50%;\n",
              "      cursor: pointer;\n",
              "      display: none;\n",
              "      fill: #1967D2;\n",
              "      height: 32px;\n",
              "      padding: 0 0 0 0;\n",
              "      width: 32px;\n",
              "    }\n",
              "\n",
              "    .colab-df-convert:hover {\n",
              "      background-color: #E2EBFA;\n",
              "      box-shadow: 0px 1px 2px rgba(60, 64, 67, 0.3), 0px 1px 3px 1px rgba(60, 64, 67, 0.15);\n",
              "      fill: #174EA6;\n",
              "    }\n",
              "\n",
              "    [theme=dark] .colab-df-convert {\n",
              "      background-color: #3B4455;\n",
              "      fill: #D2E3FC;\n",
              "    }\n",
              "\n",
              "    [theme=dark] .colab-df-convert:hover {\n",
              "      background-color: #434B5C;\n",
              "      box-shadow: 0px 1px 3px 1px rgba(0, 0, 0, 0.15);\n",
              "      filter: drop-shadow(0px 1px 2px rgba(0, 0, 0, 0.3));\n",
              "      fill: #FFFFFF;\n",
              "    }\n",
              "  </style>\n",
              "\n",
              "      <script>\n",
              "        const buttonEl =\n",
              "          document.querySelector('#df-c12553c5-e45e-44f2-87dc-3b28d04ef68b button.colab-df-convert');\n",
              "        buttonEl.style.display =\n",
              "          google.colab.kernel.accessAllowed ? 'block' : 'none';\n",
              "\n",
              "        async function convertToInteractive(key) {\n",
              "          const element = document.querySelector('#df-c12553c5-e45e-44f2-87dc-3b28d04ef68b');\n",
              "          const dataTable =\n",
              "            await google.colab.kernel.invokeFunction('convertToInteractive',\n",
              "                                                     [key], {});\n",
              "          if (!dataTable) return;\n",
              "\n",
              "          const docLinkHtml = 'Like what you see? Visit the ' +\n",
              "            '<a target=\"_blank\" href=https://colab.research.google.com/notebooks/data_table.ipynb>data table notebook</a>'\n",
              "            + ' to learn more about interactive tables.';\n",
              "          element.innerHTML = '';\n",
              "          dataTable['output_type'] = 'display_data';\n",
              "          await google.colab.output.renderOutput(dataTable, element);\n",
              "          const docLink = document.createElement('div');\n",
              "          docLink.innerHTML = docLinkHtml;\n",
              "          element.appendChild(docLink);\n",
              "        }\n",
              "      </script>\n",
              "    </div>\n",
              "  </div>\n",
              "  "
            ]
          },
          "metadata": {},
          "execution_count": 48
        }
      ]
    },
    {
      "cell_type": "code",
      "source": [
        "#Criando a variável diferenca percentual\n",
        "df['diff_media'] = (df['T2QT22'] -\tdf['T2QT13'])/df['T2QTVAL']\t"
      ],
      "metadata": {
        "id": "oYsVr_qcA2tE",
        "colab": {
          "base_uri": "https://localhost:8080/"
        },
        "outputId": "eb46082a-f650-4d18-c463-8aaee4e9fa0b"
      },
      "execution_count": 49,
      "outputs": [
        {
          "output_type": "stream",
          "name": "stderr",
          "text": [
            "/usr/local/lib/python3.7/dist-packages/ipykernel_launcher.py:2: SettingWithCopyWarning: \n",
            "A value is trying to be set on a copy of a slice from a DataFrame.\n",
            "Try using .loc[row_indexer,col_indexer] = value instead\n",
            "\n",
            "See the caveats in the documentation: https://pandas.pydata.org/pandas-docs/stable/user_guide/indexing.html#returning-a-view-versus-a-copy\n",
            "  \n"
          ]
        }
      ]
    },
    {
      "cell_type": "code",
      "source": [
        "# Agrupa Zonas e modelos de urna, e conta quantas observacoes únicas existem\n",
        "# A terceira coluna mostra o número de zonas e modelos de urna únicos\n",
        "df_zona_modelo = df.groupby(['ID_ZONA', 'LOG_MODELO','LOG_FG2020']).size()"
      ],
      "metadata": {
        "id": "ha9ix4jVxdwT"
      },
      "execution_count": 53,
      "outputs": []
    },
    {
      "cell_type": "code",
      "source": [],
      "metadata": {
        "id": "mZhf1eNw_hcA"
      },
      "execution_count": 53,
      "outputs": []
    },
    {
      "cell_type": "code",
      "source": [],
      "metadata": {
        "colab": {
          "base_uri": "https://localhost:8080/",
          "height": 424
        },
        "id": "-Bonxj57x0Kk",
        "outputId": "93846de3-a746-417e-a103-9015cab15ba6"
      },
      "execution_count": 54,
      "outputs": [
        {
          "output_type": "execute_result",
          "data": {
            "text/plain": [
              "        ID_ZONA LOG_MODELO  LOG_FG2020   0\n",
              "0      10006_11     UE2020           1  26\n",
              "1      10014_30     UE2020           1  17\n",
              "2      10022_40     UE2010           0  16\n",
              "3      10030_52     UE2020           1  53\n",
              "4      10049_44     UE2015           0  33\n",
              "...         ...        ...         ...  ..\n",
              "10464  99031_41     UE2010           0   8\n",
              "10465  99058_44     UE2015           0  66\n",
              "10466  99074_41     UE2010           0   9\n",
              "10467   99317_1     UE2009           0   1\n",
              "10468   99430_1     UE2009           0   1\n",
              "\n",
              "[10469 rows x 4 columns]"
            ],
            "text/html": [
              "\n",
              "  <div id=\"df-2d551111-5d63-451d-b4a5-961552cc48b1\">\n",
              "    <div class=\"colab-df-container\">\n",
              "      <div>\n",
              "<style scoped>\n",
              "    .dataframe tbody tr th:only-of-type {\n",
              "        vertical-align: middle;\n",
              "    }\n",
              "\n",
              "    .dataframe tbody tr th {\n",
              "        vertical-align: top;\n",
              "    }\n",
              "\n",
              "    .dataframe thead th {\n",
              "        text-align: right;\n",
              "    }\n",
              "</style>\n",
              "<table border=\"1\" class=\"dataframe\">\n",
              "  <thead>\n",
              "    <tr style=\"text-align: right;\">\n",
              "      <th></th>\n",
              "      <th>ID_ZONA</th>\n",
              "      <th>LOG_MODELO</th>\n",
              "      <th>LOG_FG2020</th>\n",
              "      <th>0</th>\n",
              "    </tr>\n",
              "  </thead>\n",
              "  <tbody>\n",
              "    <tr>\n",
              "      <th>0</th>\n",
              "      <td>10006_11</td>\n",
              "      <td>UE2020</td>\n",
              "      <td>1</td>\n",
              "      <td>26</td>\n",
              "    </tr>\n",
              "    <tr>\n",
              "      <th>1</th>\n",
              "      <td>10014_30</td>\n",
              "      <td>UE2020</td>\n",
              "      <td>1</td>\n",
              "      <td>17</td>\n",
              "    </tr>\n",
              "    <tr>\n",
              "      <th>2</th>\n",
              "      <td>10022_40</td>\n",
              "      <td>UE2010</td>\n",
              "      <td>0</td>\n",
              "      <td>16</td>\n",
              "    </tr>\n",
              "    <tr>\n",
              "      <th>3</th>\n",
              "      <td>10030_52</td>\n",
              "      <td>UE2020</td>\n",
              "      <td>1</td>\n",
              "      <td>53</td>\n",
              "    </tr>\n",
              "    <tr>\n",
              "      <th>4</th>\n",
              "      <td>10049_44</td>\n",
              "      <td>UE2015</td>\n",
              "      <td>0</td>\n",
              "      <td>33</td>\n",
              "    </tr>\n",
              "    <tr>\n",
              "      <th>...</th>\n",
              "      <td>...</td>\n",
              "      <td>...</td>\n",
              "      <td>...</td>\n",
              "      <td>...</td>\n",
              "    </tr>\n",
              "    <tr>\n",
              "      <th>10464</th>\n",
              "      <td>99031_41</td>\n",
              "      <td>UE2010</td>\n",
              "      <td>0</td>\n",
              "      <td>8</td>\n",
              "    </tr>\n",
              "    <tr>\n",
              "      <th>10465</th>\n",
              "      <td>99058_44</td>\n",
              "      <td>UE2015</td>\n",
              "      <td>0</td>\n",
              "      <td>66</td>\n",
              "    </tr>\n",
              "    <tr>\n",
              "      <th>10466</th>\n",
              "      <td>99074_41</td>\n",
              "      <td>UE2010</td>\n",
              "      <td>0</td>\n",
              "      <td>9</td>\n",
              "    </tr>\n",
              "    <tr>\n",
              "      <th>10467</th>\n",
              "      <td>99317_1</td>\n",
              "      <td>UE2009</td>\n",
              "      <td>0</td>\n",
              "      <td>1</td>\n",
              "    </tr>\n",
              "    <tr>\n",
              "      <th>10468</th>\n",
              "      <td>99430_1</td>\n",
              "      <td>UE2009</td>\n",
              "      <td>0</td>\n",
              "      <td>1</td>\n",
              "    </tr>\n",
              "  </tbody>\n",
              "</table>\n",
              "<p>10469 rows × 4 columns</p>\n",
              "</div>\n",
              "      <button class=\"colab-df-convert\" onclick=\"convertToInteractive('df-2d551111-5d63-451d-b4a5-961552cc48b1')\"\n",
              "              title=\"Convert this dataframe to an interactive table.\"\n",
              "              style=\"display:none;\">\n",
              "        \n",
              "  <svg xmlns=\"http://www.w3.org/2000/svg\" height=\"24px\"viewBox=\"0 0 24 24\"\n",
              "       width=\"24px\">\n",
              "    <path d=\"M0 0h24v24H0V0z\" fill=\"none\"/>\n",
              "    <path d=\"M18.56 5.44l.94 2.06.94-2.06 2.06-.94-2.06-.94-.94-2.06-.94 2.06-2.06.94zm-11 1L8.5 8.5l.94-2.06 2.06-.94-2.06-.94L8.5 2.5l-.94 2.06-2.06.94zm10 10l.94 2.06.94-2.06 2.06-.94-2.06-.94-.94-2.06-.94 2.06-2.06.94z\"/><path d=\"M17.41 7.96l-1.37-1.37c-.4-.4-.92-.59-1.43-.59-.52 0-1.04.2-1.43.59L10.3 9.45l-7.72 7.72c-.78.78-.78 2.05 0 2.83L4 21.41c.39.39.9.59 1.41.59.51 0 1.02-.2 1.41-.59l7.78-7.78 2.81-2.81c.8-.78.8-2.07 0-2.86zM5.41 20L4 18.59l7.72-7.72 1.47 1.35L5.41 20z\"/>\n",
              "  </svg>\n",
              "      </button>\n",
              "      \n",
              "  <style>\n",
              "    .colab-df-container {\n",
              "      display:flex;\n",
              "      flex-wrap:wrap;\n",
              "      gap: 12px;\n",
              "    }\n",
              "\n",
              "    .colab-df-convert {\n",
              "      background-color: #E8F0FE;\n",
              "      border: none;\n",
              "      border-radius: 50%;\n",
              "      cursor: pointer;\n",
              "      display: none;\n",
              "      fill: #1967D2;\n",
              "      height: 32px;\n",
              "      padding: 0 0 0 0;\n",
              "      width: 32px;\n",
              "    }\n",
              "\n",
              "    .colab-df-convert:hover {\n",
              "      background-color: #E2EBFA;\n",
              "      box-shadow: 0px 1px 2px rgba(60, 64, 67, 0.3), 0px 1px 3px 1px rgba(60, 64, 67, 0.15);\n",
              "      fill: #174EA6;\n",
              "    }\n",
              "\n",
              "    [theme=dark] .colab-df-convert {\n",
              "      background-color: #3B4455;\n",
              "      fill: #D2E3FC;\n",
              "    }\n",
              "\n",
              "    [theme=dark] .colab-df-convert:hover {\n",
              "      background-color: #434B5C;\n",
              "      box-shadow: 0px 1px 3px 1px rgba(0, 0, 0, 0.15);\n",
              "      filter: drop-shadow(0px 1px 2px rgba(0, 0, 0, 0.3));\n",
              "      fill: #FFFFFF;\n",
              "    }\n",
              "  </style>\n",
              "\n",
              "      <script>\n",
              "        const buttonEl =\n",
              "          document.querySelector('#df-2d551111-5d63-451d-b4a5-961552cc48b1 button.colab-df-convert');\n",
              "        buttonEl.style.display =\n",
              "          google.colab.kernel.accessAllowed ? 'block' : 'none';\n",
              "\n",
              "        async function convertToInteractive(key) {\n",
              "          const element = document.querySelector('#df-2d551111-5d63-451d-b4a5-961552cc48b1');\n",
              "          const dataTable =\n",
              "            await google.colab.kernel.invokeFunction('convertToInteractive',\n",
              "                                                     [key], {});\n",
              "          if (!dataTable) return;\n",
              "\n",
              "          const docLinkHtml = 'Like what you see? Visit the ' +\n",
              "            '<a target=\"_blank\" href=https://colab.research.google.com/notebooks/data_table.ipynb>data table notebook</a>'\n",
              "            + ' to learn more about interactive tables.';\n",
              "          element.innerHTML = '';\n",
              "          dataTable['output_type'] = 'display_data';\n",
              "          await google.colab.output.renderOutput(dataTable, element);\n",
              "          const docLink = document.createElement('div');\n",
              "          docLink.innerHTML = docLinkHtml;\n",
              "          element.appendChild(docLink);\n",
              "        }\n",
              "      </script>\n",
              "    </div>\n",
              "  </div>\n",
              "  "
            ]
          },
          "metadata": {},
          "execution_count": 54
        }
      ]
    },
    {
      "cell_type": "code",
      "source": [
        "# Agora com Localidades\n",
        "df_loc_modelo = df.groupby(['LOC', 'LOG_MODELO','LOG_FG2020']).size()\n",
        "df_loc_modelo = pd.DataFrame(df_loc_modelo).reset_index()\n",
        "df_loc_modelo"
      ],
      "metadata": {
        "colab": {
          "base_uri": "https://localhost:8080/",
          "height": 424
        },
        "id": "d4xkJZ3S_tQX",
        "outputId": "d688c667-8b02-403b-d488-2b8fb9c8ad18"
      },
      "execution_count": 58,
      "outputs": [
        {
          "output_type": "execute_result",
          "data": {
            "text/plain": [
              "                                                    LOC LOG_MODELO  \\\n",
              "0          (ANTIGA) ESCOLA MUNICIPAL FLORENCIO DE ABREU     UE2020   \n",
              "1                                          (APAE) CRAEE     UE2010   \n",
              "2                                          (APAE) CRAEE     UE2013   \n",
              "3                                          (APAE) CRAEE     UE2020   \n",
              "4          (BRIZOLINHA) ESCOLA ESTADUAL GILBERTO FREIRE     UE2015   \n",
              "...                                                 ...        ...   \n",
              "115598                       ÍNDIO MARAJÓ E.E. INDÍGENA     UE2015   \n",
              "115599                         ÍNDIO MAURO E.E INDÍGENA     UE2015   \n",
              "115600                                      ÓRBIS CLUBE     UE2013   \n",
              "115601  ÓZIMO LOPES DOS SANTOS (EMEF -D-19 (SANTA CRUZ)     UE2011   \n",
              "115602                                            ÚNICA     UE2015   \n",
              "\n",
              "        LOG_FG2020  0  \n",
              "0                1  1  \n",
              "1                0  1  \n",
              "2                0  1  \n",
              "3                1  1  \n",
              "4                0  2  \n",
              "...            ... ..  \n",
              "115598           0  2  \n",
              "115599           0  1  \n",
              "115600           0  1  \n",
              "115601           0  1  \n",
              "115602           0  3  \n",
              "\n",
              "[115603 rows x 4 columns]"
            ],
            "text/html": [
              "\n",
              "  <div id=\"df-64d94ccc-273b-40ea-a8a9-f6b43559fc30\">\n",
              "    <div class=\"colab-df-container\">\n",
              "      <div>\n",
              "<style scoped>\n",
              "    .dataframe tbody tr th:only-of-type {\n",
              "        vertical-align: middle;\n",
              "    }\n",
              "\n",
              "    .dataframe tbody tr th {\n",
              "        vertical-align: top;\n",
              "    }\n",
              "\n",
              "    .dataframe thead th {\n",
              "        text-align: right;\n",
              "    }\n",
              "</style>\n",
              "<table border=\"1\" class=\"dataframe\">\n",
              "  <thead>\n",
              "    <tr style=\"text-align: right;\">\n",
              "      <th></th>\n",
              "      <th>LOC</th>\n",
              "      <th>LOG_MODELO</th>\n",
              "      <th>LOG_FG2020</th>\n",
              "      <th>0</th>\n",
              "    </tr>\n",
              "  </thead>\n",
              "  <tbody>\n",
              "    <tr>\n",
              "      <th>0</th>\n",
              "      <td>(ANTIGA) ESCOLA MUNICIPAL FLORENCIO DE ABREU</td>\n",
              "      <td>UE2020</td>\n",
              "      <td>1</td>\n",
              "      <td>1</td>\n",
              "    </tr>\n",
              "    <tr>\n",
              "      <th>1</th>\n",
              "      <td>(APAE) CRAEE</td>\n",
              "      <td>UE2010</td>\n",
              "      <td>0</td>\n",
              "      <td>1</td>\n",
              "    </tr>\n",
              "    <tr>\n",
              "      <th>2</th>\n",
              "      <td>(APAE) CRAEE</td>\n",
              "      <td>UE2013</td>\n",
              "      <td>0</td>\n",
              "      <td>1</td>\n",
              "    </tr>\n",
              "    <tr>\n",
              "      <th>3</th>\n",
              "      <td>(APAE) CRAEE</td>\n",
              "      <td>UE2020</td>\n",
              "      <td>1</td>\n",
              "      <td>1</td>\n",
              "    </tr>\n",
              "    <tr>\n",
              "      <th>4</th>\n",
              "      <td>(BRIZOLINHA) ESCOLA ESTADUAL GILBERTO FREIRE</td>\n",
              "      <td>UE2015</td>\n",
              "      <td>0</td>\n",
              "      <td>2</td>\n",
              "    </tr>\n",
              "    <tr>\n",
              "      <th>...</th>\n",
              "      <td>...</td>\n",
              "      <td>...</td>\n",
              "      <td>...</td>\n",
              "      <td>...</td>\n",
              "    </tr>\n",
              "    <tr>\n",
              "      <th>115598</th>\n",
              "      <td>ÍNDIO MARAJÓ E.E. INDÍGENA</td>\n",
              "      <td>UE2015</td>\n",
              "      <td>0</td>\n",
              "      <td>2</td>\n",
              "    </tr>\n",
              "    <tr>\n",
              "      <th>115599</th>\n",
              "      <td>ÍNDIO MAURO E.E INDÍGENA</td>\n",
              "      <td>UE2015</td>\n",
              "      <td>0</td>\n",
              "      <td>1</td>\n",
              "    </tr>\n",
              "    <tr>\n",
              "      <th>115600</th>\n",
              "      <td>ÓRBIS CLUBE</td>\n",
              "      <td>UE2013</td>\n",
              "      <td>0</td>\n",
              "      <td>1</td>\n",
              "    </tr>\n",
              "    <tr>\n",
              "      <th>115601</th>\n",
              "      <td>ÓZIMO LOPES DOS SANTOS (EMEF -D-19 (SANTA CRUZ)</td>\n",
              "      <td>UE2011</td>\n",
              "      <td>0</td>\n",
              "      <td>1</td>\n",
              "    </tr>\n",
              "    <tr>\n",
              "      <th>115602</th>\n",
              "      <td>ÚNICA</td>\n",
              "      <td>UE2015</td>\n",
              "      <td>0</td>\n",
              "      <td>3</td>\n",
              "    </tr>\n",
              "  </tbody>\n",
              "</table>\n",
              "<p>115603 rows × 4 columns</p>\n",
              "</div>\n",
              "      <button class=\"colab-df-convert\" onclick=\"convertToInteractive('df-64d94ccc-273b-40ea-a8a9-f6b43559fc30')\"\n",
              "              title=\"Convert this dataframe to an interactive table.\"\n",
              "              style=\"display:none;\">\n",
              "        \n",
              "  <svg xmlns=\"http://www.w3.org/2000/svg\" height=\"24px\"viewBox=\"0 0 24 24\"\n",
              "       width=\"24px\">\n",
              "    <path d=\"M0 0h24v24H0V0z\" fill=\"none\"/>\n",
              "    <path d=\"M18.56 5.44l.94 2.06.94-2.06 2.06-.94-2.06-.94-.94-2.06-.94 2.06-2.06.94zm-11 1L8.5 8.5l.94-2.06 2.06-.94-2.06-.94L8.5 2.5l-.94 2.06-2.06.94zm10 10l.94 2.06.94-2.06 2.06-.94-2.06-.94-.94-2.06-.94 2.06-2.06.94z\"/><path d=\"M17.41 7.96l-1.37-1.37c-.4-.4-.92-.59-1.43-.59-.52 0-1.04.2-1.43.59L10.3 9.45l-7.72 7.72c-.78.78-.78 2.05 0 2.83L4 21.41c.39.39.9.59 1.41.59.51 0 1.02-.2 1.41-.59l7.78-7.78 2.81-2.81c.8-.78.8-2.07 0-2.86zM5.41 20L4 18.59l7.72-7.72 1.47 1.35L5.41 20z\"/>\n",
              "  </svg>\n",
              "      </button>\n",
              "      \n",
              "  <style>\n",
              "    .colab-df-container {\n",
              "      display:flex;\n",
              "      flex-wrap:wrap;\n",
              "      gap: 12px;\n",
              "    }\n",
              "\n",
              "    .colab-df-convert {\n",
              "      background-color: #E8F0FE;\n",
              "      border: none;\n",
              "      border-radius: 50%;\n",
              "      cursor: pointer;\n",
              "      display: none;\n",
              "      fill: #1967D2;\n",
              "      height: 32px;\n",
              "      padding: 0 0 0 0;\n",
              "      width: 32px;\n",
              "    }\n",
              "\n",
              "    .colab-df-convert:hover {\n",
              "      background-color: #E2EBFA;\n",
              "      box-shadow: 0px 1px 2px rgba(60, 64, 67, 0.3), 0px 1px 3px 1px rgba(60, 64, 67, 0.15);\n",
              "      fill: #174EA6;\n",
              "    }\n",
              "\n",
              "    [theme=dark] .colab-df-convert {\n",
              "      background-color: #3B4455;\n",
              "      fill: #D2E3FC;\n",
              "    }\n",
              "\n",
              "    [theme=dark] .colab-df-convert:hover {\n",
              "      background-color: #434B5C;\n",
              "      box-shadow: 0px 1px 3px 1px rgba(0, 0, 0, 0.15);\n",
              "      filter: drop-shadow(0px 1px 2px rgba(0, 0, 0, 0.3));\n",
              "      fill: #FFFFFF;\n",
              "    }\n",
              "  </style>\n",
              "\n",
              "      <script>\n",
              "        const buttonEl =\n",
              "          document.querySelector('#df-64d94ccc-273b-40ea-a8a9-f6b43559fc30 button.colab-df-convert');\n",
              "        buttonEl.style.display =\n",
              "          google.colab.kernel.accessAllowed ? 'block' : 'none';\n",
              "\n",
              "        async function convertToInteractive(key) {\n",
              "          const element = document.querySelector('#df-64d94ccc-273b-40ea-a8a9-f6b43559fc30');\n",
              "          const dataTable =\n",
              "            await google.colab.kernel.invokeFunction('convertToInteractive',\n",
              "                                                     [key], {});\n",
              "          if (!dataTable) return;\n",
              "\n",
              "          const docLinkHtml = 'Like what you see? Visit the ' +\n",
              "            '<a target=\"_blank\" href=https://colab.research.google.com/notebooks/data_table.ipynb>data table notebook</a>'\n",
              "            + ' to learn more about interactive tables.';\n",
              "          element.innerHTML = '';\n",
              "          dataTable['output_type'] = 'display_data';\n",
              "          await google.colab.output.renderOutput(dataTable, element);\n",
              "          const docLink = document.createElement('div');\n",
              "          docLink.innerHTML = docLinkHtml;\n",
              "          element.appendChild(docLink);\n",
              "        }\n",
              "      </script>\n",
              "    </div>\n",
              "  </div>\n",
              "  "
            ]
          },
          "metadata": {},
          "execution_count": 58
        }
      ]
    },
    {
      "cell_type": "code",
      "source": [
        "# Aqui eu conto quantas zonas possuem mais de um tipo de urna\n",
        "df_zonas_audit = df_zona_modelo.groupby(['ID_ZONA']).size()\n",
        "\n",
        "df_zonas_audit = pd.DataFrame(df_zonas_audit.sort_values(ascending = False))\n",
        "\n",
        "df_zonas_audit = df_zonas_audit.reset_index()\n",
        "\n",
        "#double checking\n",
        "#df_zona_modelo.pivot_table(columns=['ID_ZONA'], aggfunc='size').sort_values(ascending = False)"
      ],
      "metadata": {
        "id": "EciMpg4D1MZ1"
      },
      "execution_count": 59,
      "outputs": []
    },
    {
      "cell_type": "code",
      "source": [
        "# Agora com Localidades\n",
        "df_loc_audit = df_loc_modelo.groupby(['LOC']).size()\n",
        "\n",
        "df_loc_audit = pd.DataFrame(df_loc_audit.sort_values(ascending = False))\n",
        "\n",
        "df_loc_audit = df_loc_audit.reset_index()\n",
        "\n",
        "#double checking\n",
        "#df_loc_modelo.pivot_table(columns=['ID_ZONA'], aggfunc='size').sort_values(ascending = False)"
      ],
      "metadata": {
        "id": "f8fGynpQAAt3"
      },
      "execution_count": 60,
      "outputs": []
    },
    {
      "cell_type": "code",
      "source": [
        "#cria a lista de zonas para serem estudadas (Aquelas que tiverem ao menos mais de dois tipos de urna)\n",
        "lista_de_zonas_1 = df_zonas_audit[df_zonas_audit[0] > 1]['ID_ZONA']"
      ],
      "metadata": {
        "id": "oB7XoPU571CK"
      },
      "execution_count": 61,
      "outputs": []
    },
    {
      "cell_type": "code",
      "source": [
        "#retira as zonas que tem mais de um tipo de urna, porém nao tem nenhuma modelo 2020\n",
        "lista_de_zonas_2 = df[(df['ID_ZONA'].isin(lista_de_zonas_1))][['ID_ZONA','LOG_FG2020']]\n",
        "lista_de_zonas_2 = lista_de_zonas_2.groupby('ID_ZONA').sum().reset_index()\n",
        "\n",
        "lista_de_zonas_2 = lista_de_zonas_2[lista_de_zonas_2['LOG_FG2020']!= 0]['ID_ZONA']\n",
        "lista_de_zonas_2"
      ],
      "metadata": {
        "colab": {
          "base_uri": "https://localhost:8080/"
        },
        "id": "-zT-r1O3DSQA",
        "outputId": "70689209-32c2-465a-876c-6b56290b3a5d"
      },
      "execution_count": 62,
      "outputs": [
        {
          "output_type": "execute_result",
          "data": {
            "text/plain": [
              "45       1392_1\n",
              "46       1392_9\n",
              "61       1538_8\n",
              "94       2550_1\n",
              "95       2550_2\n",
              "         ...   \n",
              "1739    93858_2\n",
              "1749    95192_7\n",
              "1755    95591_3\n",
              "1757    9571_57\n",
              "1765    9652_80\n",
              "Name: ID_ZONA, Length: 459, dtype: object"
            ]
          },
          "metadata": {},
          "execution_count": 62
        }
      ]
    },
    {
      "cell_type": "code",
      "source": [
        "#Agora com localidades\n",
        "#cria a lista de loc para serem estudadas (Aquelas que tiverem ao menos mais de dois tipos de urna)\n",
        "lista_de_loc_1 = df_loc_audit[df_loc_audit[0] > 1]['LOC']\n",
        "lista_de_loc_2 = df[(df['LOC'].isin(lista_de_loc_1))][['LOC','LOG_FG2020']]\n",
        "lista_de_loc_2 = lista_de_loc_2.groupby('LOC').sum().reset_index()\n",
        "\n",
        "lista_de_loc_2 = lista_de_loc_2[lista_de_loc_2['LOG_FG2020']!= 0]['LOC']\n",
        "lista_de_loc_2"
      ],
      "metadata": {
        "colab": {
          "base_uri": "https://localhost:8080/"
        },
        "id": "mZsi9nOuAY-A",
        "outputId": "94f20e54-97e1-45e5-8731-7d05c4e181af"
      },
      "execution_count": 66,
      "outputs": [
        {
          "output_type": "execute_result",
          "data": {
            "text/plain": [
              "0                                             (APAE) CRAEE\n",
              "1                    (CAIC)ESCOLA MUNICIPAL CAPITÃO WAGNER\n",
              "3        (GINÁSIO) ESCOLA ESTADUAL DOUTOR JOÃO DA ROCHA...\n",
              "4               (GRUPO) ESCOLA MUNICIPAL CORREIA DEFREITAS\n",
              "8        (VERCINDES) ESCOLA MUNICIPAL PROFESSORA LUCILI...\n",
              "                               ...                        \n",
              "17849                                    VITORIA MOTA CRUZ\n",
              "17851         WALTER PERACCHI DE BARCELOS - E. M.E.F. GOV.\n",
              "17854                ZAIRA - (E. E. E. F. ZAIRA HAUSCHILD)\n",
              "17855            ZONA RURAL - E. E. HENRIQUE JOSÉ TRINDADE\n",
              "17856                         ÉRICO VERÍSSIMO-E.E.ENS.MED.\n",
              "Name: LOC, Length: 10192, dtype: object"
            ]
          },
          "metadata": {},
          "execution_count": 66
        }
      ]
    },
    {
      "cell_type": "code",
      "source": [
        "\n",
        "df_calculo = df[(df['ID_ZONA'].isin(lista_de_zonas_2)) ][['ID_ZONA','LOG_MODELO','LOG_FG2020','diff_media','SECAO']]\n"
      ],
      "metadata": {
        "id": "_TT6fCvy3dGZ"
      },
      "execution_count": 67,
      "outputs": []
    },
    {
      "cell_type": "code",
      "source": [],
      "metadata": {
        "id": "h51b0TKvBN7Q"
      },
      "execution_count": 68,
      "outputs": []
    },
    {
      "cell_type": "code",
      "source": [
        "df_final = df_calculo.groupby(['ID_ZONA', 'LOG_FG2020']).mean().reset_index()"
      ],
      "metadata": {
        "id": "IM5n4iz-F9nx"
      },
      "execution_count": 69,
      "outputs": []
    },
    {
      "cell_type": "code",
      "source": [
        "df_final.groupby('LOG_FG2020').mean()"
      ],
      "metadata": {
        "colab": {
          "base_uri": "https://localhost:8080/",
          "height": 143
        },
        "id": "efJT_A5v5DyF",
        "outputId": "9af3d4f7-6ebc-4c5f-96b7-51bb67805a37"
      },
      "execution_count": 70,
      "outputs": [
        {
          "output_type": "execute_result",
          "data": {
            "text/plain": [
              "            diff_media\n",
              "LOG_FG2020            \n",
              "0             0.140039\n",
              "1             0.176183"
            ],
            "text/html": [
              "\n",
              "  <div id=\"df-064738b2-52dc-421a-acfc-f05ca20ac9be\">\n",
              "    <div class=\"colab-df-container\">\n",
              "      <div>\n",
              "<style scoped>\n",
              "    .dataframe tbody tr th:only-of-type {\n",
              "        vertical-align: middle;\n",
              "    }\n",
              "\n",
              "    .dataframe tbody tr th {\n",
              "        vertical-align: top;\n",
              "    }\n",
              "\n",
              "    .dataframe thead th {\n",
              "        text-align: right;\n",
              "    }\n",
              "</style>\n",
              "<table border=\"1\" class=\"dataframe\">\n",
              "  <thead>\n",
              "    <tr style=\"text-align: right;\">\n",
              "      <th></th>\n",
              "      <th>diff_media</th>\n",
              "    </tr>\n",
              "    <tr>\n",
              "      <th>LOG_FG2020</th>\n",
              "      <th></th>\n",
              "    </tr>\n",
              "  </thead>\n",
              "  <tbody>\n",
              "    <tr>\n",
              "      <th>0</th>\n",
              "      <td>0.140039</td>\n",
              "    </tr>\n",
              "    <tr>\n",
              "      <th>1</th>\n",
              "      <td>0.176183</td>\n",
              "    </tr>\n",
              "  </tbody>\n",
              "</table>\n",
              "</div>\n",
              "      <button class=\"colab-df-convert\" onclick=\"convertToInteractive('df-064738b2-52dc-421a-acfc-f05ca20ac9be')\"\n",
              "              title=\"Convert this dataframe to an interactive table.\"\n",
              "              style=\"display:none;\">\n",
              "        \n",
              "  <svg xmlns=\"http://www.w3.org/2000/svg\" height=\"24px\"viewBox=\"0 0 24 24\"\n",
              "       width=\"24px\">\n",
              "    <path d=\"M0 0h24v24H0V0z\" fill=\"none\"/>\n",
              "    <path d=\"M18.56 5.44l.94 2.06.94-2.06 2.06-.94-2.06-.94-.94-2.06-.94 2.06-2.06.94zm-11 1L8.5 8.5l.94-2.06 2.06-.94-2.06-.94L8.5 2.5l-.94 2.06-2.06.94zm10 10l.94 2.06.94-2.06 2.06-.94-2.06-.94-.94-2.06-.94 2.06-2.06.94z\"/><path d=\"M17.41 7.96l-1.37-1.37c-.4-.4-.92-.59-1.43-.59-.52 0-1.04.2-1.43.59L10.3 9.45l-7.72 7.72c-.78.78-.78 2.05 0 2.83L4 21.41c.39.39.9.59 1.41.59.51 0 1.02-.2 1.41-.59l7.78-7.78 2.81-2.81c.8-.78.8-2.07 0-2.86zM5.41 20L4 18.59l7.72-7.72 1.47 1.35L5.41 20z\"/>\n",
              "  </svg>\n",
              "      </button>\n",
              "      \n",
              "  <style>\n",
              "    .colab-df-container {\n",
              "      display:flex;\n",
              "      flex-wrap:wrap;\n",
              "      gap: 12px;\n",
              "    }\n",
              "\n",
              "    .colab-df-convert {\n",
              "      background-color: #E8F0FE;\n",
              "      border: none;\n",
              "      border-radius: 50%;\n",
              "      cursor: pointer;\n",
              "      display: none;\n",
              "      fill: #1967D2;\n",
              "      height: 32px;\n",
              "      padding: 0 0 0 0;\n",
              "      width: 32px;\n",
              "    }\n",
              "\n",
              "    .colab-df-convert:hover {\n",
              "      background-color: #E2EBFA;\n",
              "      box-shadow: 0px 1px 2px rgba(60, 64, 67, 0.3), 0px 1px 3px 1px rgba(60, 64, 67, 0.15);\n",
              "      fill: #174EA6;\n",
              "    }\n",
              "\n",
              "    [theme=dark] .colab-df-convert {\n",
              "      background-color: #3B4455;\n",
              "      fill: #D2E3FC;\n",
              "    }\n",
              "\n",
              "    [theme=dark] .colab-df-convert:hover {\n",
              "      background-color: #434B5C;\n",
              "      box-shadow: 0px 1px 3px 1px rgba(0, 0, 0, 0.15);\n",
              "      filter: drop-shadow(0px 1px 2px rgba(0, 0, 0, 0.3));\n",
              "      fill: #FFFFFF;\n",
              "    }\n",
              "  </style>\n",
              "\n",
              "      <script>\n",
              "        const buttonEl =\n",
              "          document.querySelector('#df-064738b2-52dc-421a-acfc-f05ca20ac9be button.colab-df-convert');\n",
              "        buttonEl.style.display =\n",
              "          google.colab.kernel.accessAllowed ? 'block' : 'none';\n",
              "\n",
              "        async function convertToInteractive(key) {\n",
              "          const element = document.querySelector('#df-064738b2-52dc-421a-acfc-f05ca20ac9be');\n",
              "          const dataTable =\n",
              "            await google.colab.kernel.invokeFunction('convertToInteractive',\n",
              "                                                     [key], {});\n",
              "          if (!dataTable) return;\n",
              "\n",
              "          const docLinkHtml = 'Like what you see? Visit the ' +\n",
              "            '<a target=\"_blank\" href=https://colab.research.google.com/notebooks/data_table.ipynb>data table notebook</a>'\n",
              "            + ' to learn more about interactive tables.';\n",
              "          element.innerHTML = '';\n",
              "          dataTable['output_type'] = 'display_data';\n",
              "          await google.colab.output.renderOutput(dataTable, element);\n",
              "          const docLink = document.createElement('div');\n",
              "          docLink.innerHTML = docLinkHtml;\n",
              "          element.appendChild(docLink);\n",
              "        }\n",
              "      </script>\n",
              "    </div>\n",
              "  </div>\n",
              "  "
            ]
          },
          "metadata": {},
          "execution_count": 70
        }
      ]
    },
    {
      "cell_type": "code",
      "source": [
        "df_final.groupby('LOG_FG2020').count()"
      ],
      "metadata": {
        "colab": {
          "base_uri": "https://localhost:8080/",
          "height": 143
        },
        "id": "kHG_4Fx580KQ",
        "outputId": "8a0c0dcc-5d5b-4dc0-8019-8920dc8e7f1e"
      },
      "execution_count": 71,
      "outputs": [
        {
          "output_type": "execute_result",
          "data": {
            "text/plain": [
              "            ID_ZONA  diff_media\n",
              "LOG_FG2020                     \n",
              "0               459         459\n",
              "1               459         459"
            ],
            "text/html": [
              "\n",
              "  <div id=\"df-6176a837-b0ef-46da-957e-3ffecb2e492b\">\n",
              "    <div class=\"colab-df-container\">\n",
              "      <div>\n",
              "<style scoped>\n",
              "    .dataframe tbody tr th:only-of-type {\n",
              "        vertical-align: middle;\n",
              "    }\n",
              "\n",
              "    .dataframe tbody tr th {\n",
              "        vertical-align: top;\n",
              "    }\n",
              "\n",
              "    .dataframe thead th {\n",
              "        text-align: right;\n",
              "    }\n",
              "</style>\n",
              "<table border=\"1\" class=\"dataframe\">\n",
              "  <thead>\n",
              "    <tr style=\"text-align: right;\">\n",
              "      <th></th>\n",
              "      <th>ID_ZONA</th>\n",
              "      <th>diff_media</th>\n",
              "    </tr>\n",
              "    <tr>\n",
              "      <th>LOG_FG2020</th>\n",
              "      <th></th>\n",
              "      <th></th>\n",
              "    </tr>\n",
              "  </thead>\n",
              "  <tbody>\n",
              "    <tr>\n",
              "      <th>0</th>\n",
              "      <td>459</td>\n",
              "      <td>459</td>\n",
              "    </tr>\n",
              "    <tr>\n",
              "      <th>1</th>\n",
              "      <td>459</td>\n",
              "      <td>459</td>\n",
              "    </tr>\n",
              "  </tbody>\n",
              "</table>\n",
              "</div>\n",
              "      <button class=\"colab-df-convert\" onclick=\"convertToInteractive('df-6176a837-b0ef-46da-957e-3ffecb2e492b')\"\n",
              "              title=\"Convert this dataframe to an interactive table.\"\n",
              "              style=\"display:none;\">\n",
              "        \n",
              "  <svg xmlns=\"http://www.w3.org/2000/svg\" height=\"24px\"viewBox=\"0 0 24 24\"\n",
              "       width=\"24px\">\n",
              "    <path d=\"M0 0h24v24H0V0z\" fill=\"none\"/>\n",
              "    <path d=\"M18.56 5.44l.94 2.06.94-2.06 2.06-.94-2.06-.94-.94-2.06-.94 2.06-2.06.94zm-11 1L8.5 8.5l.94-2.06 2.06-.94-2.06-.94L8.5 2.5l-.94 2.06-2.06.94zm10 10l.94 2.06.94-2.06 2.06-.94-2.06-.94-.94-2.06-.94 2.06-2.06.94z\"/><path d=\"M17.41 7.96l-1.37-1.37c-.4-.4-.92-.59-1.43-.59-.52 0-1.04.2-1.43.59L10.3 9.45l-7.72 7.72c-.78.78-.78 2.05 0 2.83L4 21.41c.39.39.9.59 1.41.59.51 0 1.02-.2 1.41-.59l7.78-7.78 2.81-2.81c.8-.78.8-2.07 0-2.86zM5.41 20L4 18.59l7.72-7.72 1.47 1.35L5.41 20z\"/>\n",
              "  </svg>\n",
              "      </button>\n",
              "      \n",
              "  <style>\n",
              "    .colab-df-container {\n",
              "      display:flex;\n",
              "      flex-wrap:wrap;\n",
              "      gap: 12px;\n",
              "    }\n",
              "\n",
              "    .colab-df-convert {\n",
              "      background-color: #E8F0FE;\n",
              "      border: none;\n",
              "      border-radius: 50%;\n",
              "      cursor: pointer;\n",
              "      display: none;\n",
              "      fill: #1967D2;\n",
              "      height: 32px;\n",
              "      padding: 0 0 0 0;\n",
              "      width: 32px;\n",
              "    }\n",
              "\n",
              "    .colab-df-convert:hover {\n",
              "      background-color: #E2EBFA;\n",
              "      box-shadow: 0px 1px 2px rgba(60, 64, 67, 0.3), 0px 1px 3px 1px rgba(60, 64, 67, 0.15);\n",
              "      fill: #174EA6;\n",
              "    }\n",
              "\n",
              "    [theme=dark] .colab-df-convert {\n",
              "      background-color: #3B4455;\n",
              "      fill: #D2E3FC;\n",
              "    }\n",
              "\n",
              "    [theme=dark] .colab-df-convert:hover {\n",
              "      background-color: #434B5C;\n",
              "      box-shadow: 0px 1px 3px 1px rgba(0, 0, 0, 0.15);\n",
              "      filter: drop-shadow(0px 1px 2px rgba(0, 0, 0, 0.3));\n",
              "      fill: #FFFFFF;\n",
              "    }\n",
              "  </style>\n",
              "\n",
              "      <script>\n",
              "        const buttonEl =\n",
              "          document.querySelector('#df-6176a837-b0ef-46da-957e-3ffecb2e492b button.colab-df-convert');\n",
              "        buttonEl.style.display =\n",
              "          google.colab.kernel.accessAllowed ? 'block' : 'none';\n",
              "\n",
              "        async function convertToInteractive(key) {\n",
              "          const element = document.querySelector('#df-6176a837-b0ef-46da-957e-3ffecb2e492b');\n",
              "          const dataTable =\n",
              "            await google.colab.kernel.invokeFunction('convertToInteractive',\n",
              "                                                     [key], {});\n",
              "          if (!dataTable) return;\n",
              "\n",
              "          const docLinkHtml = 'Like what you see? Visit the ' +\n",
              "            '<a target=\"_blank\" href=https://colab.research.google.com/notebooks/data_table.ipynb>data table notebook</a>'\n",
              "            + ' to learn more about interactive tables.';\n",
              "          element.innerHTML = '';\n",
              "          dataTable['output_type'] = 'display_data';\n",
              "          await google.colab.output.renderOutput(dataTable, element);\n",
              "          const docLink = document.createElement('div');\n",
              "          docLink.innerHTML = docLinkHtml;\n",
              "          element.appendChild(docLink);\n",
              "        }\n",
              "      </script>\n",
              "    </div>\n",
              "  </div>\n",
              "  "
            ]
          },
          "metadata": {},
          "execution_count": 71
        }
      ]
    },
    {
      "cell_type": "code",
      "source": [
        "# com loc\n",
        "df_calculo_loc = df[(df['LOC'].isin(lista_de_loc_2)) ][['LOC','LOG_MODELO','LOG_FG2020','diff_media','SECAO']]\n",
        "df_final_loc = df_calculo_loc.groupby(['LOC', 'LOG_FG2020']).mean().reset_index()"
      ],
      "metadata": {
        "id": "BxRQwJgDBY4P"
      },
      "execution_count": 75,
      "outputs": []
    },
    {
      "cell_type": "code",
      "source": [
        "df_final_loc.groupby('LOG_FG2020').mean()"
      ],
      "metadata": {
        "colab": {
          "base_uri": "https://localhost:8080/",
          "height": 143
        },
        "id": "ZCRxU0SrBl2B",
        "outputId": "47f2449a-9800-4762-d9bb-31741d73cb1b"
      },
      "execution_count": 76,
      "outputs": [
        {
          "output_type": "execute_result",
          "data": {
            "text/plain": [
              "            diff_media\n",
              "LOG_FG2020            \n",
              "0             0.025268\n",
              "1             0.065673"
            ],
            "text/html": [
              "\n",
              "  <div id=\"df-9638cc74-d15a-40fc-93ac-9fc69015c2a5\">\n",
              "    <div class=\"colab-df-container\">\n",
              "      <div>\n",
              "<style scoped>\n",
              "    .dataframe tbody tr th:only-of-type {\n",
              "        vertical-align: middle;\n",
              "    }\n",
              "\n",
              "    .dataframe tbody tr th {\n",
              "        vertical-align: top;\n",
              "    }\n",
              "\n",
              "    .dataframe thead th {\n",
              "        text-align: right;\n",
              "    }\n",
              "</style>\n",
              "<table border=\"1\" class=\"dataframe\">\n",
              "  <thead>\n",
              "    <tr style=\"text-align: right;\">\n",
              "      <th></th>\n",
              "      <th>diff_media</th>\n",
              "    </tr>\n",
              "    <tr>\n",
              "      <th>LOG_FG2020</th>\n",
              "      <th></th>\n",
              "    </tr>\n",
              "  </thead>\n",
              "  <tbody>\n",
              "    <tr>\n",
              "      <th>0</th>\n",
              "      <td>0.025268</td>\n",
              "    </tr>\n",
              "    <tr>\n",
              "      <th>1</th>\n",
              "      <td>0.065673</td>\n",
              "    </tr>\n",
              "  </tbody>\n",
              "</table>\n",
              "</div>\n",
              "      <button class=\"colab-df-convert\" onclick=\"convertToInteractive('df-9638cc74-d15a-40fc-93ac-9fc69015c2a5')\"\n",
              "              title=\"Convert this dataframe to an interactive table.\"\n",
              "              style=\"display:none;\">\n",
              "        \n",
              "  <svg xmlns=\"http://www.w3.org/2000/svg\" height=\"24px\"viewBox=\"0 0 24 24\"\n",
              "       width=\"24px\">\n",
              "    <path d=\"M0 0h24v24H0V0z\" fill=\"none\"/>\n",
              "    <path d=\"M18.56 5.44l.94 2.06.94-2.06 2.06-.94-2.06-.94-.94-2.06-.94 2.06-2.06.94zm-11 1L8.5 8.5l.94-2.06 2.06-.94-2.06-.94L8.5 2.5l-.94 2.06-2.06.94zm10 10l.94 2.06.94-2.06 2.06-.94-2.06-.94-.94-2.06-.94 2.06-2.06.94z\"/><path d=\"M17.41 7.96l-1.37-1.37c-.4-.4-.92-.59-1.43-.59-.52 0-1.04.2-1.43.59L10.3 9.45l-7.72 7.72c-.78.78-.78 2.05 0 2.83L4 21.41c.39.39.9.59 1.41.59.51 0 1.02-.2 1.41-.59l7.78-7.78 2.81-2.81c.8-.78.8-2.07 0-2.86zM5.41 20L4 18.59l7.72-7.72 1.47 1.35L5.41 20z\"/>\n",
              "  </svg>\n",
              "      </button>\n",
              "      \n",
              "  <style>\n",
              "    .colab-df-container {\n",
              "      display:flex;\n",
              "      flex-wrap:wrap;\n",
              "      gap: 12px;\n",
              "    }\n",
              "\n",
              "    .colab-df-convert {\n",
              "      background-color: #E8F0FE;\n",
              "      border: none;\n",
              "      border-radius: 50%;\n",
              "      cursor: pointer;\n",
              "      display: none;\n",
              "      fill: #1967D2;\n",
              "      height: 32px;\n",
              "      padding: 0 0 0 0;\n",
              "      width: 32px;\n",
              "    }\n",
              "\n",
              "    .colab-df-convert:hover {\n",
              "      background-color: #E2EBFA;\n",
              "      box-shadow: 0px 1px 2px rgba(60, 64, 67, 0.3), 0px 1px 3px 1px rgba(60, 64, 67, 0.15);\n",
              "      fill: #174EA6;\n",
              "    }\n",
              "\n",
              "    [theme=dark] .colab-df-convert {\n",
              "      background-color: #3B4455;\n",
              "      fill: #D2E3FC;\n",
              "    }\n",
              "\n",
              "    [theme=dark] .colab-df-convert:hover {\n",
              "      background-color: #434B5C;\n",
              "      box-shadow: 0px 1px 3px 1px rgba(0, 0, 0, 0.15);\n",
              "      filter: drop-shadow(0px 1px 2px rgba(0, 0, 0, 0.3));\n",
              "      fill: #FFFFFF;\n",
              "    }\n",
              "  </style>\n",
              "\n",
              "      <script>\n",
              "        const buttonEl =\n",
              "          document.querySelector('#df-9638cc74-d15a-40fc-93ac-9fc69015c2a5 button.colab-df-convert');\n",
              "        buttonEl.style.display =\n",
              "          google.colab.kernel.accessAllowed ? 'block' : 'none';\n",
              "\n",
              "        async function convertToInteractive(key) {\n",
              "          const element = document.querySelector('#df-9638cc74-d15a-40fc-93ac-9fc69015c2a5');\n",
              "          const dataTable =\n",
              "            await google.colab.kernel.invokeFunction('convertToInteractive',\n",
              "                                                     [key], {});\n",
              "          if (!dataTable) return;\n",
              "\n",
              "          const docLinkHtml = 'Like what you see? Visit the ' +\n",
              "            '<a target=\"_blank\" href=https://colab.research.google.com/notebooks/data_table.ipynb>data table notebook</a>'\n",
              "            + ' to learn more about interactive tables.';\n",
              "          element.innerHTML = '';\n",
              "          dataTable['output_type'] = 'display_data';\n",
              "          await google.colab.output.renderOutput(dataTable, element);\n",
              "          const docLink = document.createElement('div');\n",
              "          docLink.innerHTML = docLinkHtml;\n",
              "          element.appendChild(docLink);\n",
              "        }\n",
              "      </script>\n",
              "    </div>\n",
              "  </div>\n",
              "  "
            ]
          },
          "metadata": {},
          "execution_count": 76
        }
      ]
    },
    {
      "cell_type": "code",
      "source": [
        "df_final_loc.groupby('LOG_FG2020').count()"
      ],
      "metadata": {
        "colab": {
          "base_uri": "https://localhost:8080/",
          "height": 143
        },
        "id": "5AE3znq8BpN4",
        "outputId": "395ce418-f7ab-450a-d870-d3a3c9d433d7"
      },
      "execution_count": 78,
      "outputs": [
        {
          "output_type": "execute_result",
          "data": {
            "text/plain": [
              "              LOC  diff_media\n",
              "LOG_FG2020                   \n",
              "0           10192       10192\n",
              "1           10192       10192"
            ],
            "text/html": [
              "\n",
              "  <div id=\"df-21d2074a-0493-4ae6-8d17-185d432ef69a\">\n",
              "    <div class=\"colab-df-container\">\n",
              "      <div>\n",
              "<style scoped>\n",
              "    .dataframe tbody tr th:only-of-type {\n",
              "        vertical-align: middle;\n",
              "    }\n",
              "\n",
              "    .dataframe tbody tr th {\n",
              "        vertical-align: top;\n",
              "    }\n",
              "\n",
              "    .dataframe thead th {\n",
              "        text-align: right;\n",
              "    }\n",
              "</style>\n",
              "<table border=\"1\" class=\"dataframe\">\n",
              "  <thead>\n",
              "    <tr style=\"text-align: right;\">\n",
              "      <th></th>\n",
              "      <th>LOC</th>\n",
              "      <th>diff_media</th>\n",
              "    </tr>\n",
              "    <tr>\n",
              "      <th>LOG_FG2020</th>\n",
              "      <th></th>\n",
              "      <th></th>\n",
              "    </tr>\n",
              "  </thead>\n",
              "  <tbody>\n",
              "    <tr>\n",
              "      <th>0</th>\n",
              "      <td>10192</td>\n",
              "      <td>10192</td>\n",
              "    </tr>\n",
              "    <tr>\n",
              "      <th>1</th>\n",
              "      <td>10192</td>\n",
              "      <td>10192</td>\n",
              "    </tr>\n",
              "  </tbody>\n",
              "</table>\n",
              "</div>\n",
              "      <button class=\"colab-df-convert\" onclick=\"convertToInteractive('df-21d2074a-0493-4ae6-8d17-185d432ef69a')\"\n",
              "              title=\"Convert this dataframe to an interactive table.\"\n",
              "              style=\"display:none;\">\n",
              "        \n",
              "  <svg xmlns=\"http://www.w3.org/2000/svg\" height=\"24px\"viewBox=\"0 0 24 24\"\n",
              "       width=\"24px\">\n",
              "    <path d=\"M0 0h24v24H0V0z\" fill=\"none\"/>\n",
              "    <path d=\"M18.56 5.44l.94 2.06.94-2.06 2.06-.94-2.06-.94-.94-2.06-.94 2.06-2.06.94zm-11 1L8.5 8.5l.94-2.06 2.06-.94-2.06-.94L8.5 2.5l-.94 2.06-2.06.94zm10 10l.94 2.06.94-2.06 2.06-.94-2.06-.94-.94-2.06-.94 2.06-2.06.94z\"/><path d=\"M17.41 7.96l-1.37-1.37c-.4-.4-.92-.59-1.43-.59-.52 0-1.04.2-1.43.59L10.3 9.45l-7.72 7.72c-.78.78-.78 2.05 0 2.83L4 21.41c.39.39.9.59 1.41.59.51 0 1.02-.2 1.41-.59l7.78-7.78 2.81-2.81c.8-.78.8-2.07 0-2.86zM5.41 20L4 18.59l7.72-7.72 1.47 1.35L5.41 20z\"/>\n",
              "  </svg>\n",
              "      </button>\n",
              "      \n",
              "  <style>\n",
              "    .colab-df-container {\n",
              "      display:flex;\n",
              "      flex-wrap:wrap;\n",
              "      gap: 12px;\n",
              "    }\n",
              "\n",
              "    .colab-df-convert {\n",
              "      background-color: #E8F0FE;\n",
              "      border: none;\n",
              "      border-radius: 50%;\n",
              "      cursor: pointer;\n",
              "      display: none;\n",
              "      fill: #1967D2;\n",
              "      height: 32px;\n",
              "      padding: 0 0 0 0;\n",
              "      width: 32px;\n",
              "    }\n",
              "\n",
              "    .colab-df-convert:hover {\n",
              "      background-color: #E2EBFA;\n",
              "      box-shadow: 0px 1px 2px rgba(60, 64, 67, 0.3), 0px 1px 3px 1px rgba(60, 64, 67, 0.15);\n",
              "      fill: #174EA6;\n",
              "    }\n",
              "\n",
              "    [theme=dark] .colab-df-convert {\n",
              "      background-color: #3B4455;\n",
              "      fill: #D2E3FC;\n",
              "    }\n",
              "\n",
              "    [theme=dark] .colab-df-convert:hover {\n",
              "      background-color: #434B5C;\n",
              "      box-shadow: 0px 1px 3px 1px rgba(0, 0, 0, 0.15);\n",
              "      filter: drop-shadow(0px 1px 2px rgba(0, 0, 0, 0.3));\n",
              "      fill: #FFFFFF;\n",
              "    }\n",
              "  </style>\n",
              "\n",
              "      <script>\n",
              "        const buttonEl =\n",
              "          document.querySelector('#df-21d2074a-0493-4ae6-8d17-185d432ef69a button.colab-df-convert');\n",
              "        buttonEl.style.display =\n",
              "          google.colab.kernel.accessAllowed ? 'block' : 'none';\n",
              "\n",
              "        async function convertToInteractive(key) {\n",
              "          const element = document.querySelector('#df-21d2074a-0493-4ae6-8d17-185d432ef69a');\n",
              "          const dataTable =\n",
              "            await google.colab.kernel.invokeFunction('convertToInteractive',\n",
              "                                                     [key], {});\n",
              "          if (!dataTable) return;\n",
              "\n",
              "          const docLinkHtml = 'Like what you see? Visit the ' +\n",
              "            '<a target=\"_blank\" href=https://colab.research.google.com/notebooks/data_table.ipynb>data table notebook</a>'\n",
              "            + ' to learn more about interactive tables.';\n",
              "          element.innerHTML = '';\n",
              "          dataTable['output_type'] = 'display_data';\n",
              "          await google.colab.output.renderOutput(dataTable, element);\n",
              "          const docLink = document.createElement('div');\n",
              "          docLink.innerHTML = docLinkHtml;\n",
              "          element.appendChild(docLink);\n",
              "        }\n",
              "      </script>\n",
              "    </div>\n",
              "  </div>\n",
              "  "
            ]
          },
          "metadata": {},
          "execution_count": 78
        }
      ]
    },
    {
      "cell_type": "code",
      "source": [
        "dist = []\n",
        "dist = pd.DataFrame(dist)\n",
        "\n",
        "dist['U2020'] = df_final[df_final['LOG_FG2020'] == 1]['diff_media'].values\n",
        "dist['U2XXX'] = df_final[df_final['LOG_FG2020'] == 0]['diff_media'].values\n",
        "\n",
        "\n"
      ],
      "metadata": {
        "id": "oiu7_SoY5ht3"
      },
      "execution_count": 79,
      "outputs": []
    },
    {
      "cell_type": "code",
      "source": [
        "dist.plot.hist(alpha = 0.5, bins = 50 )"
      ],
      "metadata": {
        "colab": {
          "base_uri": "https://localhost:8080/",
          "height": 282
        },
        "id": "HoQhedLj_Kke",
        "outputId": "215a759c-2a92-48d3-f510-c98b358c78d7"
      },
      "execution_count": 80,
      "outputs": [
        {
          "output_type": "execute_result",
          "data": {
            "text/plain": [
              "<matplotlib.axes._subplots.AxesSubplot at 0x7f14343ac490>"
            ]
          },
          "metadata": {},
          "execution_count": 80
        },
        {
          "output_type": "display_data",
          "data": {
            "text/plain": [
              "<Figure size 432x288 with 1 Axes>"
            ],
            "image/png": "[encoded data removed]"
          },
          "metadata": {
            "needs_background": "light"
          }
        }
      ]
    },
    {
      "cell_type": "code",
      "source": [
        "dist.plot.hist(cumulative=True, density=1, bins=100, alpha=0.5)"
      ],
      "metadata": {
        "colab": {
          "base_uri": "https://localhost:8080/",
          "height": 282
        },
        "id": "aWeL0lIsEPva",
        "outputId": "e2f4537c-d432-4762-ee22-a99527e194df"
      },
      "execution_count": 81,
      "outputs": [
        {
          "output_type": "execute_result",
          "data": {
            "text/plain": [
              "<matplotlib.axes._subplots.AxesSubplot at 0x7f1434c72c90>"
            ]
          },
          "metadata": {},
          "execution_count": 81
        },
        {
          "output_type": "display_data",
          "data": {
            "text/plain": [
              "<Figure size 432x288 with 1 Axes>"
            ],
            "image/png": "[encoded data removed]"
          },
          "metadata": {
            "needs_background": "light"
          }
        }
      ]
    },
    {
      "cell_type": "code",
      "source": [
        "dist_loc = []\n",
        "dist_loc = pd.DataFrame(dist_loc)\n",
        "\n",
        "dist_loc['U2020'] = df_final_loc[df_final_loc['LOG_FG2020'] == 1]['diff_media'].values\n",
        "dist_loc['U2XXX'] = df_final_loc[df_final_loc['LOG_FG2020'] == 0]['diff_media'].values\n"
      ],
      "metadata": {
        "id": "z3tD5zqMEHfc"
      },
      "execution_count": 84,
      "outputs": []
    },
    {
      "cell_type": "code",
      "source": [
        "dist_loc.plot.hist(alpha = 0.5, bins = 50 )"
      ],
      "metadata": {
        "colab": {
          "base_uri": "https://localhost:8080/",
          "height": 282
        },
        "id": "jK41TxNjC2H4",
        "outputId": "d3bd3d2d-fea4-4d51-ed06-d248dace30c1"
      },
      "execution_count": 85,
      "outputs": [
        {
          "output_type": "execute_result",
          "data": {
            "text/plain": [
              "<matplotlib.axes._subplots.AxesSubplot at 0x7f142441e650>"
            ]
          },
          "metadata": {},
          "execution_count": 85
        },
        {
          "output_type": "display_data",
          "data": {
            "text/plain": [
              "<Figure size 432x288 with 1 Axes>"
            ],
            "image/png": "[encoded data removed]"
          },
          "metadata": {
            "needs_background": "light"
          }
        }
      ]
    },
    {
      "cell_type": "code",
      "source": [
        "dist_loc.plot.hist(cumulative=True, density=1, bins=100, alpha=0.5)"
      ],
      "metadata": {
        "colab": {
          "base_uri": "https://localhost:8080/",
          "height": 282
        },
        "id": "aA03O1AsC7Mn",
        "outputId": "f6e392aa-9865-4588-c69c-b88e29679801"
      },
      "execution_count": 86,
      "outputs": [
        {
          "output_type": "execute_result",
          "data": {
            "text/plain": [
              "<matplotlib.axes._subplots.AxesSubplot at 0x7f142484e990>"
            ]
          },
          "metadata": {},
          "execution_count": 86
        },
        {
          "output_type": "display_data",
          "data": {
            "text/plain": [
              "<Figure size 432x288 with 1 Axes>"
            ],
            "image/png": "[encoded data removed]"
          },
          "metadata": {
            "needs_background": "light"
          }
        }
      ]
    },
    {
      "cell_type": "code",
      "source": [
        "df_final[df_final['LOG_FG2020'] == 0][['diff_media']].hist(cumulative=True, density=1, bins=100, alpha=0.5)\n",
        "df_final[df_final['LOG_FG2020'] == 1][['diff_media']].hist(cumulative=True, density=1, bins=100, alpha=0.5)"
      ],
      "metadata": {
        "colab": {
          "base_uri": "https://localhost:8080/",
          "height": 580
        },
        "id": "XRs4FdlLp8CF",
        "outputId": "356b8479-5099-46d8-a085-51f5e5e4f620"
      },
      "execution_count": 82,
      "outputs": [
        {
          "output_type": "execute_result",
          "data": {
            "text/plain": [
              "array([[<matplotlib.axes._subplots.AxesSubplot object at 0x7f1433049c50>]],\n",
              "      dtype=object)"
            ]
          },
          "metadata": {},
          "execution_count": 82
        },
        {
          "output_type": "display_data",
          "data": {
            "text/plain": [
              "<Figure size 432x288 with 1 Axes>"
            ],
            "image/png": "[encoded data removed]"
          },
          "metadata": {
            "needs_background": "light"
          }
        },
        {
          "output_type": "display_data",
          "data": {
            "text/plain": [
              "<Figure size 432x288 with 1 Axes>"
            ],
            "image/png": "[encoded data removed]"
          },
          "metadata": {
            "needs_background": "light"
          }
        }
      ]
    },
    {
      "cell_type": "code",
      "source": [
        "#Rodar o teste Kolmogorov-Simirnov pra testar se as distrinuições são diferentes\n",
        "from scipy import stats\n",
        "import matplotlib.pyplot as plt \n",
        "import numpy as np\n",
        "\n",
        "U2020 = np.array(df_final[df_final['LOG_FG2020'] == 1]['diff_media']).cumprod()\n",
        "U2XXX = np.array(df_final[df_final['LOG_FG2020'] == 0]['diff_media']).cumprod()\n",
        "\n",
        "stats.kstest(U2020, U2XXX, alternative = 'less')"
      ],
      "metadata": {
        "id": "L2fsq4_ALu9x",
        "colab": {
          "base_uri": "https://localhost:8080/"
        },
        "outputId": "9ff899af-64fe-4225-9d06-c08f3b6d35c7"
      },
      "execution_count": 83,
      "outputs": [
        {
          "output_type": "execute_result",
          "data": {
            "text/plain": [
              "KstestResult(statistic=0.10675381263616558, pvalue=0.005325805612974558)"
            ]
          },
          "metadata": {},
          "execution_count": 83
        }
      ]
    },
    {
      "cell_type": "code",
      "source": [],
      "metadata": {
        "id": "FHaXT9JoDDkZ"
      },
      "execution_count": null,
      "outputs": []
    },
    {
      "cell_type": "code",
      "source": [
        "#agora com localidadesD\n",
        "U2020 = np.array(df_final_loc[df_final_loc['LOG_FG2020'] == 1]['diff_media']).cumprod()\n",
        "U2XXX = np.array(df_final_loc[df_final_loc['LOG_FG2020'] == 0]['diff_media']).cumprod()\n",
        "\n",
        "stats.kstest(U2020, U2XXX, alternative = 'less')"
      ],
      "metadata": {
        "colab": {
          "base_uri": "https://localhost:8080/"
        },
        "id": "1S2kj7uuDGM-",
        "outputId": "f1a7608e-7043-4370-9fa8-b3cb0745475e"
      },
      "execution_count": 87,
      "outputs": [
        {
          "output_type": "execute_result",
          "data": {
            "text/plain": [
              "KstestResult(statistic=0.0042189952904238635, pvalue=0.8305760416942164)"
            ]
          },
          "metadata": {},
          "execution_count": 87
        }
      ]
    },
    {
      "cell_type": "markdown",
      "source": [],
      "metadata": {
        "id": "GjJ_MKdvTI14"
      }
    },
    {
      "cell_type": "code",
      "source": [],
      "metadata": {
        "id": "VFKV6C6FDCxw"
      },
      "execution_count": null,
      "outputs": []
    },
    {
      "cell_type": "markdown",
      "source": [
        "## Teste de robustez\n",
        "\n",
        "Rodar o Kolmogorv-Smirnov em amostras aleatórias das mesmas zonas.\n",
        "\n"
      ],
      "metadata": {
        "id": "t5yRG3g6Rk37"
      }
    },
    {
      "cell_type": "code",
      "source": [
        "# Calcula numero de secao em cada ID_zona da lista\n",
        "\n",
        "df_to_dict = df_calculo[['ID_ZONA', 'SECAO']].groupby(['ID_ZONA']).count().reset_index()\n",
        "\n",
        "dict_1 = pd.Series(df_to_dict['SECAO'].values,index=df_to_dict['ID_ZONA']).to_dict()\n"
      ],
      "metadata": {
        "id": "q1aQJ1hup3k_"
      },
      "execution_count": null,
      "outputs": []
    },
    {
      "cell_type": "code",
      "source": [
        "from random import randint, seed"
      ],
      "metadata": {
        "id": "xJ_shwd8T2B1"
      },
      "execution_count": null,
      "outputs": []
    },
    {
      "cell_type": "code",
      "source": [
        "# Monta a funcao que gera as amostras\n",
        "def sampler(): #fixar uma seed para publicar depois\n",
        "  sample = np.zeros(len(lista_de_zonas_2))\n",
        "  for i,j,k in zip(dict_1.keys(),range(len(dict_1.keys())), dict_1.values()):\n",
        "    sample[j] = df_calculo[df_calculo['ID_ZONA']==i]['diff_media'].values[randint(1,k-1)]\n",
        "  return sample\n",
        "\n"
      ],
      "metadata": {
        "id": "1Ibkqq_BK36f"
      },
      "execution_count": null,
      "outputs": []
    },
    {
      "cell_type": "code",
      "source": [
        "#Criando as amostras aleatórias de cada zona eleitoral escolhida\n",
        "\n",
        "sample_1 = sampler()\n",
        "sample_2 = sampler()\n",
        "sample_3 = sampler()\n",
        "sample_4 = sampler()"
      ],
      "metadata": {
        "id": "jMpu6D0QT2En"
      },
      "execution_count": null,
      "outputs": []
    },
    {
      "cell_type": "markdown",
      "source": [
        "### Testando KS test\n"
      ],
      "metadata": {
        "id": "PqaawaW_Qm1h"
      }
    },
    {
      "cell_type": "code",
      "source": [
        "stats.kstest(sample_1, sample_2, alternative = 'less')"
      ],
      "metadata": {
        "colab": {
          "base_uri": "https://localhost:8080/"
        },
        "id": "ZX6cOLWFQlyD",
        "outputId": "3aefb3c5-b41c-4edb-e91c-99d0d3a58f37"
      },
      "execution_count": null,
      "outputs": [
        {
          "output_type": "execute_result",
          "data": {
            "text/plain": [
              "KstestResult(statistic=0.037037037037037035, pvalue=0.5330778455530156)"
            ]
          },
          "metadata": {},
          "execution_count": 105
        }
      ]
    },
    {
      "cell_type": "code",
      "source": [
        "stats.kstest(sample_1, sample_3, alternative = 'less')"
      ],
      "metadata": {
        "colab": {
          "base_uri": "https://localhost:8080/"
        },
        "id": "DNPUKcFtMM4u",
        "outputId": "e42733fb-5985-4149-83f7-bb5eb640bcd7"
      },
      "execution_count": null,
      "outputs": [
        {
          "output_type": "execute_result",
          "data": {
            "text/plain": [
              "KstestResult(statistic=0.054466230936819175, pvalue=0.256443886193023)"
            ]
          },
          "metadata": {},
          "execution_count": 106
        }
      ]
    },
    {
      "cell_type": "code",
      "source": [
        "stats.kstest(sample_1, sample_4, alternative = 'less')"
      ],
      "metadata": {
        "colab": {
          "base_uri": "https://localhost:8080/"
        },
        "id": "O7F4lvRVNo0a",
        "outputId": "982ec2b9-4916-470a-add5-456f71f5de4d"
      },
      "execution_count": null,
      "outputs": [
        {
          "output_type": "execute_result",
          "data": {
            "text/plain": [
              "KstestResult(statistic=0.0457516339869281, pvalue=0.3828649967027105)"
            ]
          },
          "metadata": {},
          "execution_count": 107
        }
      ]
    },
    {
      "cell_type": "code",
      "source": [
        "stats.kstest(sample_2, sample_4, alternative = 'less')"
      ],
      "metadata": {
        "colab": {
          "base_uri": "https://localhost:8080/"
        },
        "id": "Lvx8Fir-Q11x",
        "outputId": "af5066e4-45fa-429d-9100-76503e706c66"
      },
      "execution_count": null,
      "outputs": [
        {
          "output_type": "execute_result",
          "data": {
            "text/plain": [
              "KstestResult(statistic=0.0392156862745098, pvalue=0.49396311894011097)"
            ]
          },
          "metadata": {},
          "execution_count": 108
        }
      ]
    },
    {
      "cell_type": "code",
      "source": [
        "stats.kstest(sample_3, sample_4, alternative = 'less')"
      ],
      "metadata": {
        "colab": {
          "base_uri": "https://localhost:8080/"
        },
        "id": "hiTuFcVFQ5AO",
        "outputId": "c94de331-2885-4386-b47e-897185b6a0e4"
      },
      "execution_count": null,
      "outputs": [
        {
          "output_type": "execute_result",
          "data": {
            "text/plain": [
              "KstestResult(statistic=0.0457516339869281, pvalue=0.3828649967027105)"
            ]
          },
          "metadata": {},
          "execution_count": 109
        }
      ]
    },
    {
      "cell_type": "code",
      "source": [
        "stats.kstest(sample_2, sample_3, alternative = 'less')"
      ],
      "metadata": {
        "colab": {
          "base_uri": "https://localhost:8080/"
        },
        "id": "r6Hr_O4SURhn",
        "outputId": "19a02c94-89cb-4ec3-f6df-939c6718ff7b"
      },
      "execution_count": null,
      "outputs": [
        {
          "output_type": "execute_result",
          "data": {
            "text/plain": [
              "KstestResult(statistic=0.030501089324618737, pvalue=0.6527138536209176)"
            ]
          },
          "metadata": {},
          "execution_count": 110
        }
      ]
    },
    {
      "cell_type": "markdown",
      "source": [],
      "metadata": {
        "id": "9vNf56MlTb_P"
      }
    },
    {
      "cell_type": "code",
      "source": [],
      "metadata": {
        "id": "nJJYzDFYQ_2O"
      },
      "execution_count": null,
      "outputs": []
    }
  ]
}